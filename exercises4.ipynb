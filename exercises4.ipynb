{
 "cells": [
  {
   "attachments": {},
   "cell_type": "markdown",
   "metadata": {},
   "source": [
    "<div style=\"text-align: left\"> \n",
    "PHYS736 Introduction to General Relativity <br>\n",
    "Lecturers: Viraf M. Mehta and Georges Obied \n",
    "<div style=\"text-align: right\"> \n",
    "Birzeit University <br>\n",
    "Winter Term 2022\n",
    "</div></div>"
   ]
  },
  {
   "attachments": {},
   "cell_type": "markdown",
   "metadata": {},
   "source": [
    "----\n",
    "# Assignment 4\n",
    "----"
   ]
  },
  {
   "attachments": {},
   "cell_type": "markdown",
   "metadata": {},
   "source": [
    "## Gravitation"
   ]
  },
  {
   "attachments": {},
   "cell_type": "markdown",
   "metadata": {},
   "source": [
    "**NOTE**: Unless stated otherwise, we will take the cosmological constant as zero ($\\Lambda = 0$)."
   ]
  },
  {
   "attachments": {},
   "cell_type": "markdown",
   "metadata": {},
   "source": [
    "### Problem 1 [Einstein Field Equations in Vacuum]"
   ]
  },
  {
   "attachments": {},
   "cell_type": "markdown",
   "metadata": {},
   "source": [
    "Show that the Einstein field equations $R_{\\mu \\nu} - \\frac{1}{2}g_{\\mu \\nu}R = 8 \\pi G T_{\\mu \\nu}$, where $G$ is the Newton's gravitational constant \\& $T_{\\mu \\nu}$ is the energy-momentum tensor, can be equivalently written as:\n",
    "\\begin{align}\n",
    "R_{\\mu \\nu}=8 \\pi G\\left(T_{\\mu \\nu}-\\frac{1}{2} g_{\\mu \\nu} T\\right)\n",
    "\\end{align}\n",
    "where $T=T^\\mu{ }_\\mu$ is the trace of $T_{\\mu \\nu}$.\n",
    "\n",
    "_Corollary_: Accordingly prove that the Einstein equations in vacuum reduce to:\n",
    "\\begin{align}\n",
    "R_{\\mu \\nu}=0 .\n",
    "\\end{align}"
   ]
  },
  {
   "attachments": {},
   "cell_type": "markdown",
   "metadata": {},
   "source": [
    "### Problem 2 [FLRW Cosmology \\& Friedmann Equations]"
   ]
  },
  {
   "attachments": {},
   "cell_type": "markdown",
   "metadata": {},
   "source": [
    "The FRW metric with zero intrinsic curvature in the 3D spatial hyperslices $(\\mathrm{k}=0)$ can be written as:\n",
    "\\begin{align}\n",
    "d s^2=-d t^2+a^2(t) \\delta_{i j} d x^i d x^j\n",
    "\\end{align}\n",
    "\n",
    "1. Since this is a diagonal metric, we can use the results of Problem 3 in Sheet 6. Accordingly calculate the Christoffel symbols corresponding to this metric. Verify the answers using the additional Jupyter notebooks provided (_e.g._ `resources/additional_notebooks/christoffel1.ipynb`). \n",
    "\n",
    "1. Calculate the Riemann tensor, the Ricci tensor and the Ricci Scalar for the metric. Verify the answers using the Jupyter notebooks provided.\n",
    "\n",
    "1. The large scale structure of the Universe can be modelled to be as perfectly smooth, homogeneous and isotropic. Accordingly we can model using a perfect fluid. Consider a perfect fluid with energy-momentum tensor as:\n",
    "  \\begin{align}\n",
    "  T_{\\mu \\nu}=(\\rho+p) u_\\mu u_\\nu+p g_{\\mu \\nu}\n",
    "  \\end{align}\n",
    "  at rest, i.e. $u^{\\mu} = \\delta^{\\mu}_0$. Simplify the Einstein field equations to prove the following two Friedmann equations:\n",
    "  1. The temporal components ($\\mu = 0, \\nu = 0$) of the Einstein field equations correspond to the first Friedmann equation:\n",
    "  \\begin{align}\n",
    "  -3 \\frac{\\ddot{a}}{a}=4 \\pi G(\\rho+3 p)\n",
    "  \\end{align}\n",
    "  where $G$ is the Newton's gravitational constant.\n",
    "  1. The spatial components ($\\mu, \\nu \\in \\{ 1, 2,3 \\}$) of the Einstein field equations yield the second Friedmann equation:\n",
    "  \\begin{align}\n",
    "  \\frac{\\ddot{a}}{a}+2\\left(\\frac{\\dot{a}}{a}\\right)^2=4 \\pi G(\\rho-p)\n",
    "  \\end{align}\n",
    "\n",
    "  **Hint**: It may be helpful to use the equivalent expression eq. (1) for the Einstein field equations."
   ]
  },
  {
   "attachments": {},
   "cell_type": "markdown",
   "metadata": {},
   "source": [
    "_Provide answer(s) here_"
   ]
  },
  {
   "attachments": {},
   "cell_type": "markdown",
   "metadata": {},
   "source": [
    "### Problem 3 [Lagrangian Derivation of the Geodesic Equation \\& Christoffel Symbols]"
   ]
  },
  {
   "attachments": {},
   "cell_type": "markdown",
   "metadata": {},
   "source": [
    "Read and understand the 3-page document (titled _\"Derivation of the Geodesic Equation and Defining the Christoffel Symbols\"_) available [here](http://people.uncw.edu/hermanr/GR/geodesic.pdf)."
   ]
  },
  {
   "attachments": {},
   "cell_type": "markdown",
   "metadata": {},
   "source": [
    "### Problem 4 [Conservation of Energy-Momentum Tensor]"
   ]
  },
  {
   "attachments": {},
   "cell_type": "markdown",
   "metadata": {},
   "source": [
    "**Not for tutorial discussions.**\n",
    "\n",
    "The Einstein tensor is defined as:\n",
    "\\begin{align}\n",
    "G_{\\mu \\nu} = R_{\\mu \\nu} - \\frac{1}{2} g_{\\mu \\nu} R\n",
    "\\end{align} \n",
    "which makes the Einstein field equations:\n",
    "\\begin{align}\n",
    "G_{\\mu \\nu} = 8 \\pi G T_{\\mu\\nu}.\n",
    "\\end{align}\n",
    "\n",
    "Prove that the energy-momentum tensor is conserved as follows:\n",
    "\\begin{align}\n",
    "\\nabla^{\\mu} T_{\\mu \\nu} = 0.\n",
    "\\end{align}\n",
    "\n",
    "**Hint**: First prove $\\nabla^{\\mu} G_{\\mu \\nu} = 0$ by using the second Bianchi identity $\\nabla_\\eta R_{\\lambda \\mu \\nu \\kappa}+\\nabla_\\kappa R_{\\lambda \\mu \\eta \\nu}+\\nabla_\\nu R_{\\lambda \\mu \\kappa \\eta}=0$ and the definitions of Ricci tensor \\& Ricci scalar. \n",
    "\n",
    "An _alternative proof_ starting from the variational principle is provided in the lecture notes in the subsection _\"Lagrangian formulation\"_ of the section _\"Gravitation\"_ -- **This is a commonly used method in research and practice usage would be beneficial for the final exam.**\n"
   ]
  },
  {
   "attachments": {},
   "cell_type": "markdown",
   "metadata": {},
   "source": [
    "_Provide answer(s) here_"
   ]
  },
  {
   "attachments": {},
   "cell_type": "markdown",
   "metadata": {},
   "source": [
    "----\n",
    "## Black Holes\n",
    "----"
   ]
  },
  {
   "attachments": {},
   "cell_type": "markdown",
   "metadata": {},
   "source": [
    "**NOTE**: Unless stated otherwise, we will work in the natural units where the speed of light is taken to be $c=1$."
   ]
  },
  {
   "attachments": {},
   "cell_type": "markdown",
   "metadata": {},
   "source": [
    "### Problem 5 [Schwarzschild Black Hole I]"
   ]
  },
  {
   "attachments": {},
   "cell_type": "markdown",
   "metadata": {},
   "source": [
    "The aim of this exercise is to calculate the escape velocity from a Schwarzschild source (static, spherically symmetric) with radius $R$ and mass $M$, for which the metric is:\n",
    "\\begin{align}\n",
    "d s^2=-\\left(1-\\frac{2 G M}{r}\\right) d t^2+\\left(1-\\frac{2 G M}{r}\\right)^{-1} d r^2+r^2\\left(d \\theta^2+\\sin ^2 \\theta d \\varphi^2\\right) .\n",
    "\\end{align}\n",
    "\n",
    "To do so, assume that a test particle of mass $m$ is launched in radial direction away from the surface of the source. Its energy as measured from a static observer on the surface is given by $E_{\\text{observed}}=-p^\\alpha u_\\alpha$, where $p^\\alpha=m v^\\alpha$ is the four-momentum of the test particle and $u^\\alpha$ is the four-velocity of the observer. Remember that $p_0 = p_t=-E$ is the negative of the total energy of the particle that is conserved.\n",
    "1. Show that:\n",
    "\\begin{align}\n",
    "E_{\\text{observed}}=\\left(1-\\frac{2 G M}{R}\\right)^{-1 / 2} E\n",
    "\\end{align}\n",
    "\n",
    "1. Recall that the total energy of the particle is also given by the energy-mass relation $E_{\\text{observed}} = \\gamma m$ in the reference frame of the observer where $\\gamma= \\frac{1}{\\sqrt{1 - v^2}}$. Use this expression to evaluate the escape velocity $v_{\\text{escape}}$ when $E = m$ given by:\n",
    "\\begin{align}\n",
    "v_{\\text{escape}}=\\sqrt{\\frac{2 G M}{R}}\n",
    "\\end{align}\n",
    "\n",
    "The condition $E=m$ is indeed the case for escape velocity when at infinity the particle comes to rest and $E_{\\text{observed}} = E = m$ with no additional kinetic energy.\n",
    "\n",
    "_NOTE_: This escape velocity coincides with the one obtained from Newtonian mechanics.\n"
   ]
  },
  {
   "attachments": {},
   "cell_type": "markdown",
   "metadata": {},
   "source": [
    "_Provide answer(s) here_"
   ]
  },
  {
   "attachments": {},
   "cell_type": "markdown",
   "metadata": {},
   "source": [
    "### Problem 6 [Schwarzschild Black Hole II]"
   ]
  },
  {
   "attachments": {},
   "cell_type": "markdown",
   "metadata": {},
   "source": [
    "<br><div style=\"text-align: center\"> \n",
    "<img src=\"resources/figBH.png\" width=\"60%\" /><br>\n",
    "Figure 1. A lighthouse falling freely into a black hole emits signals at intervals of constant proper time $\\Delta \\tau_1 = \\Delta \\tau_{\\text{emit}}$. An observer at fixed $r_2$ receives the signals at successively longer time intervals $\\Delta \\tau_2 = \\Delta \\tau_{\\text{obs}}$.\n",
    "</div>"
   ]
  },
  {
   "attachments": {},
   "cell_type": "markdown",
   "metadata": {},
   "source": [
    "\n",
    "Consider a scenario as shown in the figure where a lighthouse is radially falling freely into a Schwarzschild black hole whose line element is given by the Schwarzschild metric above. The lighthouse emits signals at intervals of constant proper time $\\Delta \\tau_{1} = \\Delta \\tau_{\\text{emit}}$. An observer at fixed $r_2$ ($> r_1$ as evident from the figure receives the signals at proper time intervals $\\Delta \\tau_{2} = \\Delta \\tau_{\\text{obs}}$.  \n",
    "\n",
    "\n",
    "1. Calculate the coordinate time interval $\\Delta t$ it takes for a photon to travel from the lighthouse at the radial coordinate $r_1$ to the fixed observer at $r_2$. Study the following two limits:\n",
    "    1. Let $R_s= 2 GM_{\\text{BH}}$ be the Schwarzschild black hole radius where $M_{\\text{BH}}$ is the mass of the black hole. Then what happens when $r_1 \\rightarrow R_s$?\n",
    "    1. What happens when both $r_1, r_2 \\ggg R_s$?\n",
    "\n",
    "1. Suppose that in terms of the coordinate time $t$, if the lighthouse is emitting signals at intervals $\\Delta t_{1} = \\Delta t_{\\text{emit}}$ and the observer receives them at intervals $\\Delta t_{2} = \\Delta t_{\\text{obs}}$, then using the result of part (a), conclude that:\n",
    "\\begin{align}\n",
    "\\Delta t_{\\text{emit}} = \\Delta t_{\\text{obs}}\n",
    "\\end{align}\n",
    "for small $\\Delta t_{\\text{emit}}$ such that $r_1 \\sim$ constant during the emission period of one signal.\n",
    "\n",
    "\n",
    "1. Observer is fixed at $r_2$ and the lighthouse is radially falling freely into the black hole towards the Schwarzschild radius $R_s$. So $r_1 \\rightarrow R_s$ and thus the gap between the lighthouse and the observer is increasing. Lighthouse will keep emitting signals at constant proper time interval $\\Delta \\tau_1$ but the observer will keep receiving signals at changing proper time intervals $\\Delta \\tau_2^{\\prime}$ as shown in the figure. Then using the result of part (b), prove that:\n",
    "\\begin{align}\n",
    "\\Delta \\tau_2^{\\prime} > \\Delta \\tau_2\n",
    "\\end{align} \n",
    "This is the _gravitational redshift_ or the _time dilation_."
   ]
  },
  {
   "attachments": {},
   "cell_type": "markdown",
   "metadata": {},
   "source": [
    "_Provide answer(s) here_"
   ]
  },
  {
   "attachments": {},
   "cell_type": "markdown",
   "metadata": {},
   "source": [
    "----\n",
    "## Weak-field or Newtonian limit of GR ##\n",
    "----"
   ]
  },
  {
   "attachments": {},
   "cell_type": "markdown",
   "metadata": {},
   "source": [
    "#### This section is entirely optional and is **not** examinable"
   ]
  },
  {
   "attachments": {},
   "cell_type": "markdown",
   "metadata": {},
   "source": [
    "### Problem 7 [The Einstein Tensor in the Weak-Field Limit (I)]"
   ]
  },
  {
   "attachments": {},
   "cell_type": "markdown",
   "metadata": {},
   "source": [
    "\n",
    "The weak-field limit means decomposing the metric tensor $g_{\\mu \\nu}$ into the flat Minkowski metric $\\eta_{\\mu \\nu}$ $=$ $\\text{diag}\\left(-1, +1, +1, +1 \\right)$ plus a small perturbation $h_{\\mu \\nu}$:\n",
    "\\begin{align}\n",
    "g_{\\mu \\nu}=\\eta_{\\mu \\nu}+h_{\\mu \\nu}, \\quad\\left|h_{\\mu \\nu}\\right| \\ll 1\n",
    "\\end{align}\n",
    "\n",
    "The assumption that $h_{\\mu \\nu}$ is small allows us to ignore anything that is higher than first order in this quantity. We generally use the full metric $g_{\\mu \\nu}$ and its inverse to lower or raise the indices respectively. But in linearised theory, we keep terms till first order in the perturbation $h$. Thus we can use the Minkowski metric to raise/lower indices in linearised theory since the corrections would be of higher order in the perturbation. Thus, for example, $h^{\\mu \\nu}=\\eta^{\\mu \\rho} \\eta^{\\nu \\sigma} h_{\\rho \\sigma}$. In fact, we can think of the linearized version of general relativity (where effects of higher than first order in $h_{\\mu \\nu}$ are neglected) as describing a theory of a symmetric tensor field $h_{\\mu\\nu}$ propagating on a flat spacetime background. This theory is Lorentz invariant in the sense of special relativity; under a Lorentz transformation $x^{\\mu^{\\prime}}=\\Lambda_\\mu^{\\mu^{\\prime}} x^\\mu$, the flat metric $\\eta_{\\mu \\nu}$ is invariant, while the perturbation transforms as\n",
    "\\begin{align}\n",
    "h_{\\mu^{\\prime} \\nu^{\\prime}}=\\Lambda_{\\mu^{\\prime}}{ }^\\mu \\Lambda_{\\nu^{\\prime}}{ }^\\nu h_{\\mu \\nu} .\n",
    "\\end{align}\n",
    "\n",
    "**NOTE:** that we could have considered small perturbations about some other background spacetime besides Minkowski space. In that case the metric would have been written $g_{\\mu \\nu}=$ $g_{\\mu \\nu}^{(0)}+h_{\\mu \\nu}$, and we would have derived a theory of a symmetric tensor propagating on the curved space with metric $g_{\\mu \\nu}^{(0)}$. Such an approach is necessary, for example, in cosmology.)\n",
    "\n",
    "Defining the trace $h=\\eta^{\\mu \\nu} h_{\\mu \\nu}$ and the d'Alembertian $\\square=\\partial_\\sigma \\partial^\\sigma$, show that in this case the corresponding Einstein tensor has the following form:\n",
    "\\begin{align}\n",
    "G_{\\mu \\nu}=R_{\\mu \\nu}-\\frac{1}{2} g_{\\mu \\nu} R=\\frac{1}{2}\\left(\\partial_\\sigma \\partial_\\nu h^\\sigma{ }_\\mu+\\partial_\\sigma \\partial_\\mu h^\\sigma{ }_\\nu-\\partial_\\mu \\partial_\\nu h-\\square h_{\\mu \\nu}-\\eta_{\\mu \\nu} \\partial_\\rho \\partial_\\lambda h^{\\rho \\lambda}+\\eta_{\\mu \\nu} \\square h\\right)\n",
    "\\end{align}\n",
    "\n",
    "_Hint_: Proceed in the usual way by constructing the Christoffel symbols corresponding to the metric above. From them, obtain the Riemann tensor $R_{\\mu \\nu \\rho \\sigma}$ and by contracting indices $\\mu$ and $\\rho$, obtain the Ricci tensor $R_{\\nu \\sigma}$ and then contract $\\nu$ and $\\sigma$ to get the Ricci scalar $R$. Do all your calculations only up to first order in $h_{\\mu \\nu}$.\n",
    "\n",
    "**NOTE 1:** The linearized Einstein field equations in vacuum is given as $G_{\\mu \\nu} = 0$ where we evaluated $G_{\\mu \\nu}$ as above. As shown in Problem 1, this can be rewritten as $R_{\\mu \\nu} = 0$. The linearized $R_{\\mu \\nu}$ is what needs to be evaluated in order to find $G_{\\mu \\nu}$. As a verification point, the expression for linearized $R_{\\mu \\nu}$ is given by:\n",
    "\\begin{align}\n",
    "R_{\\mu \\nu}=\\frac{1}{2}\\left(\\partial_\\sigma \\partial_\\nu h_\\mu^\\sigma+\\partial_\\sigma \\partial_\\mu h^\\sigma{ }_\\nu-\\partial_\\mu \\partial_\\nu h-\\square h_{\\mu \\nu}\\right)\n",
    "\\end{align}\n",
    "\n",
    "Consistent with our interpretation of the linearized theory as one describing a symmetric tensor on a flat background, the linearized Einstein tensor $G_{\\mu \\nu}$, as above, as well as the linearized Einstein field equations ($G_{\\mu \\nu} = 0$ or equivalently $R_{\\mu \\nu} = 0$) in vacuum can be derived by varying the following Lagrangian with respect to $h_{\\mu \\nu}$:\n",
    "\\begin{align}\n",
    "\\mathcal{L}=\\frac{1}{2}\\left[\\left(\\partial_\\mu h^{\\mu \\nu}\\right)\\left(\\partial_\\nu h\\right)-\\left(\\partial_\\mu h^{\\rho \\sigma}\\right)\\left(\\partial_\\rho h^\\mu{ }_\\sigma\\right)+\\frac{1}{2} \\eta^{\\mu \\nu}\\left(\\partial_\\mu h^{\\rho \\sigma}\\right)\\left(\\partial_\\nu h_{\\rho \\sigma}\\right)-\\frac{1}{2} \\eta^{\\mu \\nu}\\left(\\partial_\\mu h\\right)\\left(\\partial_\\nu h\\right)\\right]\n",
    "\\end{align}\n",
    "If motivated, try to verify this fact! It's a good exercise in variational principles in general relativity.\n",
    "\n",
    "\n",
    "**NOTE 2:** In the lecture notes, we defined the various components of the metric perturbation $h_{\\mu \\nu}$ and constructed the corresponding line element:\n",
    "\\begin{align}\n",
    "\\mathrm{d} s^2=-(1+2 \\Phi) \\mathrm{d} t^2+w_i\\left(\\mathrm{~d} t \\mathrm{~d} x^i+\\mathrm{d} x^i \\mathrm{~d} t\\right)+\\left[(1-2 \\Psi) \\delta_{i j}+2 s_{i j}\\right] \\mathrm{d} x^i \\mathrm{~d} x^j\n",
    "\\end{align}\n",
    "where:\n",
    "\\begin{align}\n",
    "h_{00} & =-2 \\Phi \\\\\n",
    "h_{0 i} & =w_i \\\\\n",
    "h_{i j} & =2 s_{i j}-2 \\Psi \\delta_{i j}\n",
    "\\end{align}\n",
    "and:\n",
    "\\begin{align}\n",
    "\\Psi=-\\frac{1}{6} \\delta^{i j} h_{i j} \\quad; \\quad\\quad s_{i j}=\\frac{1}{2}\\left(h_{i j}-\\frac{1}{3} \\delta^{k l} h_{k l} \\delta_{i j}\\right) \\quad \\text{(Strain Tensor)}\n",
    "\\end{align}\n",
    "\n",
    "Here we give explicit results corresponding to this line element. It is recommended to verify the following relations either analytically or using the provided Jupyter notebooks (_e.g._ `resources/additional_notebooks/Curvature1.ipynb`) for the line element given above. We start with computing the corresponding Riemann tensor components as follows:\n",
    "\\begin{align}\n",
    "R_{0 j 0 l} & =\\partial_j \\partial_l \\Phi+\\partial_0 \\partial_{(j} w_{l)}-\\frac{1}{2} \\partial_0 \\partial_0 h_{j l} \\\\\n",
    "R_{0 j k l} & =\\partial_j \\partial_{[k} w_{l]}-\\partial_0 \\partial_{[k} h_{l] j} \\\\\n",
    "R_{i j k l} & =\\partial_j \\partial_{[k} h_{l] i}-\\partial_i \\partial_{[k} h_{l] j}\n",
    "\\end{align}\n",
    "\n",
    "Accordingly we can also compute the Ricci tensor and the Ricci scalar to get the following components for the Einstein tensor:\n",
    "\\begin{align}\n",
    "G_{00}= & 2 \\nabla^2 \\Psi+\\partial_k \\partial_l s^{k l} \\\\\n",
    "G_{0 j}= & -\\frac{1}{2} \\nabla^2 w_j+\\frac{1}{2} \\partial_j \\partial_k w^k+2 \\partial_0 \\partial_j \\Psi+\\partial_0 \\partial_k s_j^k \\\\\n",
    "G_{i j}= & \\left(\\delta_{i j} \\nabla^2-\\partial_i \\partial_j\\right)(\\Phi-\\Psi)+\\delta_{i j} \\partial_0 \\partial_k w^k-\\partial_0 \\partial_{(i} w_{j)} \\\\\n",
    "& \\quad+2 \\delta_{i j} \\partial_0^2 \\Psi+\\partial_0 \\partial^0 s_{i j}-\\partial_k \\partial^k s_{i j}+2 \\partial_k \\partial_{(i} s_{j)}^k-\\delta_{i j} \\partial_k \\partial_l s^{k l} .\n",
    "\\end{align}\n"
   ]
  },
  {
   "attachments": {},
   "cell_type": "markdown",
   "metadata": {},
   "source": [
    "_Provide answer(s) here_"
   ]
  },
  {
   "attachments": {},
   "cell_type": "markdown",
   "metadata": {},
   "source": [
    "### Problem 8 [Einstein Field Equations in the Newtonian Limit]"
   ]
  },
  {
   "attachments": {},
   "cell_type": "markdown",
   "metadata": {},
   "source": [
    "Consider the line element given above and the energy-momentum tensor of a matter fluid $(p=0)$ at rest $\\left(U^0=1\\right)$ given by $T_{00}=\\rho$ and zero otherwise. Furthermore, assume static sources such that all time-derivative terms can be dropped. We now go to the transverse gauge where:\n",
    "\\begin{align}\n",
    "\\partial_i s^{ij} &= 0 \\\\\n",
    "\\partial_i w^i &= 0\n",
    "\\end{align}\n",
    "where the real valued functions $\\Phi$ and $\\Psi$ satisfy $\\Phi= \\Psi$.\n",
    "\n",
    "By writing down the Einstein field equations in the transverse gauge and using the results for Einstein tensor, show that the Einstein field equations boil down to:\n",
    "\\begin{align}\n",
    "\\nabla^2 \\Phi & =4 \\pi G \\rho, \\\\\n",
    "\\nabla^2 w_j & =0 \\\\\n",
    "\\nabla^2 s_{i j} & =0\n",
    "\\end{align}\n",
    "\n",
    "**NOTE:** We are looking for solutions that are both non-singular and well-behaved at infinity. Consequently, only those fields that are sourced by a non-vanishing right-hand side will be non-vanishing. The second and third equations therefore imply $w_i=0$ and $s_{i j}=0$ and the metric perturbations reduce to $h_{\\mu \\nu}=-2 \\Phi \\delta_{\\mu \\nu}$ where $\\Phi$ obeys the conventional Poisson equation $\\nabla^2 \\Phi=4 \\pi G \\rho$."
   ]
  },
  {
   "attachments": {},
   "cell_type": "markdown",
   "metadata": {},
   "source": [
    "_Provide answer(s) here_"
   ]
  },
  {
   "attachments": {},
   "cell_type": "markdown",
   "metadata": {},
   "source": [
    "### Problem 9 [Penrose Diagram for de-Sitter Spacetime]"
   ]
  },
  {
   "attachments": {},
   "cell_type": "markdown",
   "metadata": {},
   "source": [
    "The $d$-dimensional de-Sitter spacetime $\\mathrm{dS}_d$ is the hypersurface\n",
    "\\begin{align}\n",
    "-X_0^2+X_1^2+\\ldots+X_d^2=R_s^2\n",
    "\\end{align}\n",
    "of the $d+1$-dimensional Minkowski spacetime, where $R_s \\in \\mathbb{R}$ is the de-Sitter radius. By rescaling we can take $R_s=1$.\n",
    "\n",
    "1. Show that using the coordinates:\n",
    "\\begin{align}\n",
    "X^0 & =\\sinh \\tau \\\\\n",
    "X^i & =\\omega^i \\cosh \\tau\n",
    "\\end{align}\n",
    "with $\\tau \\in \\mathbb{R}$ and $\\sum_{i=1}^d\\left(\\omega^i\\right)^2=1$, the $\\mathrm{dS}_d$ induced metric gives:\n",
    "\\begin{align}\n",
    "d s^2=-\\mathrm{d} \\tau^2+\\left(\\cosh ^2 \\tau\\right) \\mathrm{d} \\Omega_{d-1}^2,\n",
    "\\end{align}\n",
    "where $\\mathrm{d} \\Omega_{d-1}^2=\\sum_{i=1}^d\\left(\\mathrm{~d} \\omega^i\\right)^2$ represents the metric on $S^{d-1}$.\n",
    "\n",
    "1. Set:\n",
    "\\begin{align}\n",
    "\\cosh \\tau=\\frac{1}{\\cos T},\n",
    "\\end{align}\n",
    "with $-\\pi / 2<T<\\pi / 2$ and show that the metric above is equivalent to:\n",
    "\\begin{align}\n",
    "d \\tilde{s}=-\\mathrm{d} T^2+\\mathrm{d} \\Omega_{d-1}^2=-\\mathrm{d} T^2+\\mathrm{d} \\theta^2+\\sin ^2 \\theta \\mathrm{d} \\Omega_{d-2}^2\n",
    "\\end{align}\n",
    "where $-\\pi < \\theta<\\pi$ with either ends identified.\n",
    "\n",
    "1. Draw the corresponding Penrose diagram $(T, \\theta)$ and describe its causal structure.\n"
   ]
  },
  {
   "attachments": {},
   "cell_type": "markdown",
   "metadata": {},
   "source": [
    "_Provide answer(s) here_"
   ]
  },
  {
   "cell_type": "markdown",
   "metadata": {},
   "source": []
  }
 ],
 "metadata": {
  "kernelspec": {
   "display_name": "Python 3",
   "language": "python",
   "name": "python3"
  },
  "language_info": {
   "name": "python",
   "version": "3.9.6"
  },
  "orig_nbformat": 4,
  "vscode": {
   "interpreter": {
    "hash": "31f2aee4e71d21fbe5cf8b01ff0e069b9275f58929596ceb00d14d90e3e16cd6"
   }
  }
 },
 "nbformat": 4,
 "nbformat_minor": 2
}
