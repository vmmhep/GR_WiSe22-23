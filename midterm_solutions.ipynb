{
 "cells": [
  {
   "cell_type": "markdown",
   "metadata": {},
   "source": [
    "<div style=\"text-align: left\"> \n",
    "PHYS736 Introduction to General Relativity <br>\n",
    "Examiners: Viraf M. Mehta and Georges Obied \n",
    "<div style=\"text-align: right\"> \n",
    "Birzeit University <br>\n",
    "December 2022\n",
    "</div></div>"
   ]
  },
  {
   "cell_type": "markdown",
   "metadata": {},
   "source": [
    "#### **Candidates may answer as many parts as they wish from SECTION A, but the total mark for this section will be capped at 20.**\n",
    "\n",
    "#### **Candidates should also answer TWO questions from SECTION B. No credit will be given for answering a further question from this section.  The approximate mark for each part of a question is indicated in square brackets.**\n",
    "\n",
    "#### **The total mark for the exam is 50.**"
   ]
  },
  {
   "cell_type": "markdown",
   "metadata": {},
   "source": [
    "Name:\n",
    "<br><br>\n",
    "Student ID:"
   ]
  },
  {
   "cell_type": "markdown",
   "metadata": {},
   "source": [
    "----\n",
    "# Midterm Exam\n",
    "----"
   ]
  },
  {
   "cell_type": "markdown",
   "metadata": {},
   "source": [
    "### **Section A**\n",
    "----"
   ]
  },
  {
   "cell_type": "markdown",
   "metadata": {},
   "source": [
    "#### Problem 1 [Simultaneity in Different Frames]"
   ]
  },
  {
   "cell_type": "markdown",
   "metadata": {},
   "source": [
    "Consider three events $A$, $B$ and $C$. Your task is to draw a spacetime diagram, on the same set of axes, showing three frames where the ordering of the events is $ABC$ in one, $CBA$ in the second and $ACB$ in the third. \n",
    "\n",
    "A set of axes is provided below for one of the frames (for example the one where the events happen in the order $ABC$). You can use the grid below as a guide to mark three events $A$, $B$ and $C$ and then draw two more sets of axes ($x't'$ and $x''t''$) where the events happen in the order $CBA$ and $ACB$.\n",
    "<div style=\"text-align: center\"> \n",
    "<img src=\"./resources/Simultaneity.png\" width=\"50%\" /><br>\n",
    "Figure 1.  Grid with axes for the frame $xt$. \n",
    "</div>\n",
    "<br>\n",
    "<div style=\"text-align: right\"> \n",
    "[5 marks]\n",
    "</div>"
   ]
  },
  {
   "cell_type": "markdown",
   "metadata": {},
   "source": [
    "##### Solution\n",
    "To be able to satisfy the requirements of this question, we need to pick 3 points that are spacelike separated. This is because Lorentz transformations cannot change the time-ordering of time-like separated events. That said, one then needs to experiment with positioning the events but it is not too difficult to find one solution. One example is sketched in the figure below.\n",
    "\n",
    "<div style=\"text-align: center\"> \n",
    "<img src=\"./resources/Simultaneity_sol.png\" width=\"50%\" /><br>\n",
    "Figure 1.  Grid with axes for the frame $xt$. \n",
    "</div>"
   ]
  },
  {
   "cell_type": "markdown",
   "metadata": {},
   "source": [
    "#### Problem 2 [Scalar vs Tensor]"
   ]
  },
  {
   "cell_type": "markdown",
   "metadata": {},
   "source": [
    "Show that the determinant of the metric tensor\n",
    "\\begin{align}\n",
    "g \\equiv \\mathrm{det\\ }\\bigl(g_{\\mu\\nu}\\bigr)\n",
    "\\end{align}\n",
    "is **not** a scalar.\n",
    "<br><div style=\"text-align: right\"> \n",
    "[5 marks]\n",
    "</div>"
   ]
  },
  {
   "cell_type": "markdown",
   "metadata": {
    "tags": [
     "Solution"
    ]
   },
   "source": [
    "##### Solution\n",
    "Scalars do **not** transform under a coordinate transformation, thus, we just need to show that $g \\nrightarrow g^\\prime$.\n",
    "\n",
    "Take\n",
    "\\begin{align}\n",
    "x^\\mu \\rightarrow x^{\\mu^{\\prime}} \\Rightarrow g_{\\mu^\\prime\\nu^\\prime} = g_{\\mu\\nu}\\frac{\\partial x^\\mu}{\\partial x^{\\mu^\\prime}}\\frac{\\partial x^\\nu}{\\partial x^{\\nu^\\prime}}\n",
    "\\end{align}\n",
    "and therefore \n",
    "\\begin{align}\n",
    "\\begin{split}\n",
    "g^\\prime &= \\mathrm{det}(g_{\\mu^\\prime\\nu^\\prime}) \\\\\n",
    "&= \\mathrm{det}(g_{\\mu\\nu})\\, \\mathrm{det}\\biggl(\\frac{\\partial x^\\mu}{\\partial x^{\\mu^\\prime}}\\biggr)\\, \\mathrm{det}\\biggl(\\frac{\\partial x^\\nu}{\\partial x^{\\nu^\\prime}}\\biggr)\\\\\n",
    "&= g\\biggl[\\mathrm{det}\\biggl(\\frac{\\partial x^\\nu}{\\partial x^{\\nu^\\prime}}\\biggr) \\biggr]^2\n",
    "\\end{split}\n",
    "\\end{align}\n",
    "_i.e._ $g^\\prime \\neq g$ and thus $g$ cannot be a scalar."
   ]
  },
  {
   "cell_type": "markdown",
   "metadata": {},
   "source": [
    "#### Problem 3 [Lorentz Transformation]"
   ]
  },
  {
   "cell_type": "markdown",
   "metadata": {},
   "source": [
    "If $\\Lambda^\\alpha_\\beta$ and $\\tilde{\\Lambda}^\\alpha_\\beta$ are two coordinate transformation matrices, show that the matrix\n",
    "\\begin{align}\n",
    "\\Lambda^\\alpha_\\gamma\\tilde{\\Lambda}^\\gamma_\\beta\n",
    "\\end{align}\n",
    "is also a coordinate transformation.\n",
    "<br><div style=\"text-align: right\"> \n",
    "[5 marks]\n",
    "</div>"
   ]
  },
  {
   "cell_type": "markdown",
   "metadata": {
    "tags": [
     "Solution"
    ]
   },
   "source": [
    "##### Solution\n",
    "We can write each coordinate transformation as\n",
    "\\begin{align}\n",
    "\\begin{split}\n",
    "x^\\mu \\rightarrow x^{\\mu^\\prime} &\\Rightarrow \\Lambda^\\alpha_\\gamma = \\frac{\\partial x^{\\alpha^\\prime}}{\\partial x^{\\gamma}}\\\\[1em]\n",
    "x^\\mu \\rightarrow x^{\\tilde{\\mu}} &\\Rightarrow \\tilde{\\Lambda}^\\alpha_\\gamma = \\frac{\\partial x^{\\tilde{\\alpha}}}{\\partial x^{\\gamma}}\n",
    "\\end{split}\n",
    "\\end{align}\n",
    "and thus their product\n",
    "\\begin{align}\n",
    "\\Lambda^\\alpha_\\gamma\\tilde{\\Lambda}^\\gamma_\\beta =  \\frac{\\partial x^{\\alpha^\\prime}}{\\partial x^{\\gamma}}\\frac{\\partial x^{\\tilde{\\gamma}}}{\\partial x^{\\beta}}.\n",
    "\\end{align}\n",
    "We notice this looks like the _chain rule_ for partial derivatives and so we could consider the combined transformation\n",
    "\\begin{align}\n",
    "x^{\\mu^\\prime}(x^\\nu) &= x^{\\mu^\\prime}[x^{\\tilde{\\gamma}}(x^\\nu)]\\\\[1em]\n",
    " \\Rightarrow \\Lambda^\\mu_\\beta &= \\frac{\\partial x^{\\tilde{\\mu}}}{\\partial x^{\\beta}}\\\\[1em]\n",
    " &=\\frac{\\partial x^{\\tilde{\\mu}}}{\\partial x^{\\gamma}}\\frac{\\partial x^{\\tilde{\\gamma}}}{\\partial x^{\\beta}}\n",
    "\\end{align}\n",
    "which is precisely as above -- the discrepancy in our choices of _dummy_ variables are irrelevant and thus, the product of two coordinate transformations is also a coordinate transformation."
   ]
  },
  {
   "cell_type": "markdown",
   "metadata": {},
   "source": [
    "#### Problem 4 [Symmetric and Antisymmetric Tensors]"
   ]
  },
  {
   "cell_type": "markdown",
   "metadata": {},
   "source": [
    "Let $A_{\\mu\\nu}$ be an antisymmetric tensor so that $A_{\\mu\\nu} = - A_{\\nu\\mu}$ and let $S^{\\mu\\nu}$ be a symmetric tensor such that $S^{\\mu\\nu} = S^{\\nu\\mu}$.  Show that \n",
    "\\begin{align}\n",
    "A_{\\mu\\nu}S^{\\mu\\nu} = 0.\n",
    "\\end{align}\n",
    "For an arbitrary tensor, $V_{\\mu\\nu}$, establish the following identities:\n",
    "\\begin{align}\n",
    "V^{\\mu\\nu}A_{\\mu\\nu} &= \\frac 12 \\bigl(V^{\\mu\\nu}-V^{\\nu\\mu}\\bigr)A_{\\mu\\nu}\\\\[1.5em]\n",
    "V^{\\mu\\nu}S_{\\mu\\nu} &= \\frac 12 \\bigl(V^{\\mu\\nu}+V^{\\nu\\mu}\\bigr)S_{\\mu\\nu}\n",
    "\\end{align}\n",
    "<br><div style=\"text-align: right\"> \n",
    "[5 marks]\n",
    "</div>"
   ]
  },
  {
   "cell_type": "markdown",
   "metadata": {},
   "source": [
    "##### Solution\n",
    "It's clear that \n",
    "\\begin{align}\n",
    "A_{\\mu\\nu}S^{\\mu\\nu} = - A_{\\nu\\mu}S^{\\nu\\mu}\n",
    "\\end{align}\n",
    "given the symmetries described above.  However, as $\\mu$ and $\\nu$ are summed over, these dummy indices can be freely interchanged, _i.e._\n",
    "\\begin{align}\n",
    "A_{\\mu\\nu}S^{\\mu\\nu} = -A_{\\nu\\mu}S^{\\mu\\nu} = - A_{\\mu\\nu}S^{\\mu\\nu}\n",
    "\\end{align}\n",
    "and so $A_{\\mu\\nu}S^{\\mu\\nu} = 0$.\n",
    "\n",
    "In addition, we can always write a tensor as the sum of its symmetric and antisymmetric parts\n",
    "\\begin{align}\n",
    "V_{(\\mu\\nu)} &= \\frac 12 \\bigl(V_{\\mu\\nu} + V_{\\nu\\mu}\\bigr)\\\\[1em]\n",
    "V_{[\\mu\\nu]} &= \\frac 12 \\bigl(V_{\\mu\\nu} - V_{\\nu\\mu}\\bigr)\n",
    "\\end{align}\n",
    "and so\n",
    "\\begin{align}\n",
    "V^{\\mu\\nu}A_{\\mu\\nu} &= V^{(\\mu\\nu)}A_{\\mu\\nu} + V^{[\\mu\\nu]}A_{\\mu\\nu} = \\frac 12 \\bigl(V^{\\mu\\nu}-V^{\\nu\\mu}\\bigr)A_{\\mu\\nu}\\\\[1.5em]\n",
    "V^{\\mu\\nu}S_{\\mu\\nu} &= V^{(\\mu\\nu)}S_{\\mu\\nu} + V^{[\\mu\\nu]}S_{\\mu\\nu} = \\frac 12 \\bigl(V^{\\mu\\nu}+V^{\\nu\\mu}\\bigr)S_{\\mu\\nu}\n",
    "\\end{align}"
   ]
  },
  {
   "cell_type": "markdown",
   "metadata": {},
   "source": [
    "#### Problem 5 [Rindler Space]"
   ]
  },
  {
   "cell_type": "markdown",
   "metadata": {},
   "source": [
    "Show that the two-dimensional space with metric\n",
    "\\begin{align}\n",
    "ds^2 = dv^2 - v^2du^2\n",
    "\\end{align}\n",
    "is just the two-dimensional Minkowski space\n",
    "\\begin{align}\n",
    "ds^2 = -dt^2 + dx^2\n",
    "\\end{align}\n",
    "in disguise.  \n",
    "**Hint:** You must find the appropriate change of coordinates $x(u,v)$ and $t(u,v)$.\n",
    "<br><div style=\"text-align: right\"> \n",
    "[5 marks]\n",
    "</div>"
   ]
  },
  {
   "cell_type": "markdown",
   "metadata": {},
   "source": [
    "##### Solution\n",
    "We notice this metric is analogous to polar coordinates:\n",
    "\\begin{align}\n",
    "x &= v \\cosh u &&& x^2 - t^2 = v^2 \\\\[1em]\n",
    "t &= v\\sinh u &&& \\frac xt = \\coth u.\n",
    "\\end{align}\n",
    "And so\n",
    "\\begin{align}\n",
    "dx^2 &= \\bigl(dv\\cosh u + du\\ v \\sinh u\\bigr)^2\\\\[1em]\n",
    "dt^2 &= \\bigl(dv \\sinh u +du\\ v \\cosh u\\bigr)^2\\\\[1em]\n",
    "&\\Rightarrow dx^2 - dt^2 = dv^2 - v^2 du^2\n",
    "\\end{align}\n"
   ]
  },
  {
   "cell_type": "markdown",
   "metadata": {},
   "source": [
    "#### Problem 6 [Symmetric Maxwell's Laws]"
   ]
  },
  {
   "cell_type": "markdown",
   "metadata": {},
   "source": [
    "If we required an aesthetic symmetry in all physical laws, one could argue that Maxwell's equations should read\n",
    "\\begin{align}\n",
    "\\partial_\\mu F^{\\mu\\nu} &= \\mu_0 J^\\nu\\\\[1.5em]\n",
    "\\partial_\\mu \\tilde{F}^{\\mu\\nu} &= \\mu_0 K^\\nu.\n",
    "\\end{align}\n",
    "What would the physical implications of $\\mathbf{K}$ be?\n",
    "<br><div style=\"text-align: right\"> \n",
    "[5 marks]\n",
    "</div>"
   ]
  },
  {
   "cell_type": "markdown",
   "metadata": {},
   "source": [
    "##### Solution\n",
    "First, we know that\n",
    "\\begin{align}\n",
    "\\tilde{F}^{\\mu\\nu} = \\frac 12 \\epsilon^{\\mu\\nu\\alpha\\beta}F_{\\alpha\\beta}\n",
    "\\end{align}\n",
    "and that $F\\rightarrow \\tilde{F}$ under the transformation\n",
    "\\begin{align}\n",
    "\\vec{E}\\to -\\vec{B} && \\vec{B}\\to \\vec{E}.\n",
    "\\end{align}\n",
    "Thus, $\\mathbf{K}$ would be interpreted as a negative charge-current of \"magnetic\" charge.  In addition, this duality implies that magnetic monopoles would exist in nature (which we, so far, have not observed)."
   ]
  },
  {
   "cell_type": "markdown",
   "metadata": {},
   "source": [
    "#### Problem 7 [Conformal Transformation]"
   ]
  },
  {
   "cell_type": "markdown",
   "metadata": {},
   "source": [
    "Show that a conformal transformation of a metric, _i.e._ $g_{\\mu\\nu} \\rightarrow f\\bigl(x^\\alpha\\bigr)g_{\\mu\\nu}$, for an arbitrary function $f$, preserves all angles. \n",
    "\n",
    "Also show that all null curves remain null curves.\n",
    "\n",
    "\n",
    "**Hint:** Perhaps the definition of the dot product in Euclidean space would be useful for defining an angle here.\n",
    "<br><div style=\"text-align: right\"> \n",
    "[5 marks]\n",
    "</div>"
   ]
  },
  {
   "cell_type": "markdown",
   "metadata": {},
   "source": [
    "##### Solution\n",
    "Take 2 vectors, $A^\\mu$ and $B^\\mu$ with some background metric $g_{\\mu\\nu}$.  The dot product is defined as\n",
    "\\begin{align}\n",
    "\\mathbf{A}\\cdot\\mathbf{B} = |\\mathbf{A}|\\, |\\mathbf{B}|\\cos\\theta\n",
    "\\end{align}\n",
    "where $\\theta$ is the angle between $\\mathbf{A}$ and $\\mathbf{B}$ in a Riemannian (or Euclidean) background.  \n",
    "Thus, under $g_{\\mu\\nu} \\rightarrow f\\bigl(x^\\alpha\\bigr)g_{\\mu\\nu}$ we have\n",
    "\\begin{align}\n",
    "\\cos \\theta &= \\frac{\\mathbf{A}\\cdot\\mathbf{B}}{|\\mathbf{A}|\\, |\\mathbf{B}|}\\\\[1em]\n",
    "&= \\frac{g_{\\mu\\nu}A^\\mu B^\\nu}{\\bigl(g_{\\alpha\\beta}A^\\alpha A^\\beta g_{\\rho\\sigma}B^\\rho B^\\sigma\\bigr)^\\frac 12}\\\\[1em]\n",
    "&\\rightarrow \\frac{f\\bigl(x^\\gamma\\bigr)g_{\\mu\\nu}A^\\mu B^\\nu}{\\bigl[f\\bigl(x^\\gamma\\bigr)g_{\\alpha\\beta}A^\\alpha A^\\beta f\\bigl(x^\\gamma\\bigr)g_{\\rho\\sigma}B^\\rho B^\\sigma\\bigr]^\\frac 12}\\\\[1em]\n",
    "&= \\frac{g_{\\mu\\nu}A^\\mu B^\\nu}{\\bigl(g_{\\alpha\\beta}A^\\alpha A^\\beta g_{\\rho\\sigma}B^\\rho B^\\sigma\\bigr)^\\frac 12}\n",
    "\\end{align}\n",
    "_i.e._ the $f$s cancel and so angles are preserved by conformal transformations.\n",
    "\n",
    "In addition, the square of the tangent vector remains zero,\n",
    "\\begin{align}\n",
    "\\mathbf{l}\\cdot\\mathbf{l} = g_{\\mu\\nu}l^\\mu l^\\nu \\rightarrow f\\bigl(x^\\gamma\\bigr)g_{\\mu\\nu}l^\\mu l^\\nu = 0\n",
    "\\end{align}\n",
    "and so null curves remain null curves."
   ]
  },
  {
   "cell_type": "markdown",
   "metadata": {},
   "source": [
    "#### Problem 8 [Bouncing Stick]\n"
   ]
  },
  {
   "cell_type": "markdown",
   "metadata": {},
   "source": [
    "Consider a stick of proper length $L$ that falls horizontally and bounces off a rigid a surface. Assume all points of the stick touch the surface simultaneously in this frame which we call $S$. We want to consider the same bouncing stick in a different frame, called $S'$, that moves with respect to $S$ with a relativistic velocity $v$ in a direction along the length of the stick. Due to loss of simultaneity, different points of the stick will touch the surface at different times in frame $S'$. We have illustrated the initial and final configuration of the stick in frame $S'$ in snapshots 1 and 3 below. Draw what the stick would look like in snapshot 2 which is taken midway between snapshots 1 and 3. \n",
    "<div style=\"text-align: center\"> \n",
    "<img src=\"./resources/BouncingStick.png\" width=\"90%\" /><br>\n",
    "Figure 2.  Snapshots of the bouncing stick in frame $S'$.\n",
    "</div>\n",
    "\n",
    "<br><div style=\"text-align: right\"> \n",
    "[5 marks]\n",
    "</div>"
   ]
  },
  {
   "cell_type": "markdown",
   "metadata": {},
   "source": [
    "##### Solution\n",
    "The important concept for this solution is that the stick does not touch the ground all at the same time in frame $S'$ as simultaneity is lost. In frame $S$, it touches the ground at all points simultaneously but that cannot be true in frame $S'$ as well. In frame $S'$, one end touches the ground first (Snapshot 1) then the middle touches (Snapshot 2) and then then other end (Snapshot 3). This is shown in the figure below.\n",
    "\n",
    "<div style=\"text-align: center\"> \n",
    "<img src=\"./resources/BouncingStick_sol.png\" width=\"90%\" /><br>\n",
    "Figure 2.  Snapshots of the bouncing stick in frame $S'$.\n",
    "</div>"
   ]
  },
  {
   "cell_type": "markdown",
   "metadata": {},
   "source": [
    "#### Problem 9 [Photon Travelling Diagonally]\n"
   ]
  },
  {
   "cell_type": "markdown",
   "metadata": {},
   "source": [
    "Consider a photon of energy $E$ traveling in the $+y$ direction in frame $S$. In a different frame, called $S'$, that is boosted with respect to $S$ along the $x$-axis, the momentum of the same photon has components along the $y$ and $x$ directions. Find the velocity at which frame $S'$ should be traveling so that the photon trajectory makes a $45^\\circ$ angle with the $x$-axis.\n",
    "\n",
    "<br><div style=\"text-align: right\"> \n",
    "[5 marks]\n",
    "</div>"
   ]
  },
  {
   "cell_type": "markdown",
   "metadata": {},
   "source": [
    "##### Solution\n",
    "To find the answer to this question it suffices to remember that a photon travels at speed $c$ in all frames. If the photon trajectory is to make a $45^\\circ$ angle with the $x$-axis, then it must have equal velocity components in the $x$ and $y$ directions (i.e. $v_x = v_y$). We then have\n",
    "\\begin{align}\n",
    "c^2 &= v_x^2 + v_y^2 = 2v_x^2\\\\\n",
    "\\implies v_x &= \\frac{c}{\\sqrt{2}}.\n",
    "\\end{align}\n",
    "Since the photon had no velocity component along the $x$ direction in frame $S$ but has $v_x = c/\\sqrt{2}$ in frame $S'$, we conclude that frame $S'$ must be moving with respect to frame $S$ at the speed $c/\\sqrt{2}$."
   ]
  },
  {
   "cell_type": "markdown",
   "metadata": {},
   "source": [
    "#### Problem 9 [Two Masses with a Constant Tension String]"
   ]
  },
  {
   "cell_type": "markdown",
   "metadata": {},
   "source": [
    "Consider two point masses $m$ that are connected by a string of constant tension $T$. Suppose we start with a configuration in which the two masses are at rest and separated by a distance $L$. When the system is allowed to evolve, the two masses will move towards one another. Assuming that the two masses collide and stick together to form a point mass at rest, calculate the mass $M$ of the resulting particle. \n",
    "\n",
    "<br><div style=\"text-align: center\"> \n",
    "<img src=\"resources/CollidingMasses.png\" width=\"40%\" /><br>\n",
    "Figure 3.  Initial and final configurations of the two colliding masses.\n",
    "</div>\n",
    "<br><div style=\"text-align: right\"> \n",
    "[5 marks]\n",
    "</div>"
   ]
  },
  {
   "cell_type": "markdown",
   "metadata": {},
   "source": [
    "##### Solution\n",
    "Here we have to apply conservation of mass/energy remembering that the string under tension also carries energy. Equating the total energy in the initial and final states we find:\n",
    "\\begin{align}\n",
    "M = 2m + LT\n",
    "\\end{align}"
   ]
  },
  {
   "cell_type": "markdown",
   "metadata": {},
   "source": [
    "### Section B\n",
    "----"
   ]
  },
  {
   "cell_type": "markdown",
   "metadata": {},
   "source": [
    "#### Problem B1 [Twin Paradox]"
   ]
  },
  {
   "cell_type": "markdown",
   "metadata": {},
   "source": [
    "In this question we will consider a slightly modified version of the twin paradox. In this version we will have three clocks and we would like to show that the relation between the readings on various clocks is frame independent. The first clock, we will call $E$, is a clock that remains on Earth. The second clock, called $O$ is one that is on an outgoing journey towards a distant star. Finally, the last clock, called $I$, is on an incoming journey from the same star. For the incoming and outgoing journeys, clocks $O$ and $I$ travel at a relativistic velocity $v$.\n",
    "\n",
    "Consider the following thought experiment. Clock $O$ and $E$ are both set to zero right before $O$ leaves Earth towards the star. As soon as $O$ reaches the star, the reading is transferred to clock $I$ which then immediately leaves the star and heads back towards Earth. When clock $I$ reaches Earth, its reading is compared with $E$. Show that the readings satisfy $T_E = \\gamma T_I$ by working \n",
    "\n",
    "1. in the frame of the Earth $E$\n",
    "1. in the frame of the outgoing clock $I$. Do this by following these steps:\n",
    "    1. Draw a spacetime diagram from the perspective of $I$ and include the world lines of $E$ and $O$. Label the three important events (i.e. when $I$, $O$ and $E$ meet).\n",
    "    1. Find the velocities of $E$ and $O$ in the frame of $I$. Hint: use the relativistic velocity addition formula.\n",
    "    1. Find the time dilation factors of $E$ and $O$ in the frame of $I$. In particular show that the time dilation factor of $O$ in the frame of $I$ is: $\\gamma_O = \\frac{1+v^2}{1-v^2}$.\n",
    "    1. Call $t_O$ the time on $O$'s clock when $O$ meets $I$. Calculate $t_\\text{O meets I}$ which is the time taken for $O$ to reach $I$ in the frame of $I$. Hint: this is just a time dilation factor times $t_O$. \n",
    "    1. What is the distance that $O$ travels in time $t_\\text{O meets I}$? \n",
    "    1. Find $t_\\text{E meets I}$ by using $E$'s speed calculated in part (B) and the fact that $E$ must travel the same distance as the one calculated in part (E). \n",
    "    1. The quantity calculated in part (F) is a time interval in $I$'s frame. How much has $E$'s clock advanced in this time interval? Call this $T_E$. Hint: again this is just multiplying/dividing by a time dilation factor!\n",
    "    1. Explain why the quantity\n",
    "    \\begin{align}\n",
    "        T_I = t_O + t_\\text{E meets I} - t_\\text{O meets I}\n",
    "    \\end{align}\n",
    "    is important. In particular, discuss why this quantity satisfies $T_I = T_E/\\gamma$ where $T_E$ was calculated in part G. This should agree with the conclusion of part 1.\n",
    "\n",
    "NOTE: The time dilation factor is $\\gamma = 1/\\sqrt{1-v^2/c^2}$ where $v$ should be the relevant velocity between the two clocks being compared. \n",
    "\n",
    "\n",
    "<br><div style=\"text-align: right\"> \n",
    "[15 marks]\n",
    "</div>"
   ]
  },
  {
   "cell_type": "markdown",
   "metadata": {},
   "source": [
    "##### Solution\n",
    "1. Working in the frame of the Earth (E), it is easy to see that the outward and inward journeys take the same amount of time (since the two spaceships travel at the same speed $v$). Suppose that the spaceships meet at time $t_E$, then the total elapsed time on Earth is $T_E = 2 t_E$. For the first leg of the journey, the time elapsed on the clock on the outgoing spaceship is $t_E / \\gamma$ where $\\gamma = 1/\\sqrt{1 - v^2}$. Similarly, after the handoff the time elapsed on the ingoing clock is $t_E/\\gamma$. Adding these two gives $2t_E/\\gamma = T_I$. We then have the relation $T_I = T_E/\\gamma$. \n",
    "\n",
    "1. \n",
    "    1. The worldlines of E and O are shown in the spacetime diagram below. The worldline of $I$ coincides with the $t$ axis since we are working in the frame of $I$.\n",
    "    1. The velocity of $E$ is simply $v$. The velocity of $O$ is, using velocity addition formula,\n",
    "    \\begin{align}\n",
    "        v_O = \\frac{2v}{1+v^2}\n",
    "    \\end{align}\n",
    "    1. The time dialation factor of $E$ is simply $\\gamma = 1/\\sqrt{1 - v^2}$. The time dialation factor of $O$ is \n",
    "    \\begin{align}\n",
    "        \\gamma_O = \\frac{1}{\\sqrt{1 - v_O^2}} = \\frac{1+v^2}{1-v^2}\n",
    "    \\end{align}\n",
    "    where we used $v_O$ from the previous part.\n",
    "    1. We have\n",
    "    \\begin{align}\n",
    "        t_\\text{O meets I} = \\gamma_O t_O = \\frac{1+v^2}{1-v^2} t_O\n",
    "    \\end{align}\n",
    "    1. The distance covered is just the velocity multiplied by the time:\n",
    "    \\begin{align}\n",
    "        d = v_O t_\\text{O meets I} = \\frac{2 v t_O}{1-v^2}\n",
    "    \\end{align}\n",
    "    1. The time taken for $E$ to meet $I$ can be calculated using the distance $d$ above and the fact that $E$ travels at speed $v$. This gives:\n",
    "    \\begin{align}\n",
    "        t_\\text{E meets I} = \\frac{d}{v} = \\frac{2 t_O}{1-v^2}\n",
    "    \\end{align}\n",
    "    1. As per the hint, the time in frame $E$ is calculated using the time dialtion factor of $E$:\n",
    "    \\begin{align}\n",
    "        T_E = \\frac{t_\\text{E meets I}}{\\gamma_E} = \\frac{2 t_O}{\\sqrt{1-v^2}}\n",
    "    \\end{align}\n",
    "    1. The significance of the expression provided is that it is the time on $I$'s clock once they reach the Earth. We can show it satisfies the required relation:\n",
    "    \\begin{align}\n",
    "        T_I &= t_O + t_\\text{E meets I} - t_\\text{O meets I}  \\\\\n",
    "        &= t_O + \\frac{2}{1-v^2}t_O - \\frac{1+v^2}{1-v^2}t_O \\\\\n",
    "        &= 2 t_O = \\frac{T_E}{\\gamma}\n",
    "    \\end{align}\n",
    "\n",
    "\n",
    "<br><div style=\"text-align: center\"> \n",
    "<img src=\"resources/SpacetimeDiagram.png\" width=\"40%\" /><br>\n",
    "Spacetime diagram for part (2A).\n",
    "</div>"
   ]
  },
  {
   "cell_type": "markdown",
   "metadata": {},
   "source": [
    "#### Problem B2 [Equivalence Principle]"
   ]
  },
  {
   "cell_type": "markdown",
   "metadata": {},
   "source": [
    "In this question we will explore various forms of the equivalence principle and then use one of them to investigate gravitational time dilation. This is the effect whereby a clock that is higher in a gravitational field (e.g. a tall tower) will run faster than one that is positioned lower in the field (e.g. on the surface of the Earth).\n",
    "\n",
    "1. To begin with, consider two versions of the equivalence principle:\n",
    "\n",
    "    __Statement 1__: Gravitational and inertial masses are equal. More precisely, the mass $m_i$ that enters Newton's second law $\\vec{F} = m_i \\vec{a}$ is the same as $m_g$ that enters in Newton's law of gravity $\\vec{F}_g = \\frac{G M m_g}{r^2} = m_g \\vec{g}$. \n",
    "\n",
    "    __Statement 2__: Using the dynamics of moving particles, it is impossible to carry out an experiment that would distinguish a uniform gravitational field from constant acceleration.\n",
    "\n",
    "    Argue that the two statements are the same (at least in the non-relativistic limit). \n",
    "    Hint: Use a change of coordinates to a non-inertial frame $\\vec{x}' = \\vec{x} - \\frac12 \\vec{g} t^2$ and $t' = t$ to eliminate the effects of gravity.\n",
    "\n",
    "1. By performing experiments with various materials we can find evidence for the WEP. Argue why this is also indirect evidence for the Einstein Equivalence Principle (EEP). In particular, consider the fact that different materials contain different ratios of protons, neutrons and electrons and their gravitating mass/energy receives contributions from various forces (e.g. electromagnetic and the strong force).\n",
    "\n",
    "1. Secondly, we want to derive the classical Doppler effect for a moving receiver. Do this by considering a stationary source (i.e. work in the frame of the source) that emits pulses which travel with velocity $c$ and have time separation between them $t_S$ as measured by the source. Find the time interval $t_R$ between pulses arriving at a receiver travelling with veolocity $v$ towards the source.\n",
    "\n",
    "<br><div style=\"text-align: center\"> \n",
    "<img src=\"resources/DopplerEffect.png\" width=\"80%\" /><br>\n",
    "Figure 1. Diagram showing a fixed source emitting pulses at $t_S$ intervals and moving receiver. To find $t_R$ how long does it take for the next pulse to reach the receiver if a pulse has just passed the receiver?\n",
    "</div>\n",
    "\n",
    "1. Finally, consider a rocket of height $h$ and acceleration $g$. \n",
    "    1. Imagine a source at the top of the rocket that emits quick flashes of light at intervals $t_S$ and calculate the intervals $t_R$ between received flashes of light at the bottom of the rocket. There are three things that could be important here: <br>\n",
    "    (i) the motion of the receiver;<br> \n",
    "    (ii) the motion of the source and; <br>\n",
    "    (iii) the displacement of the receiver by the time the pulses reach it. <br>\n",
    "    It is correct to ignore the (ii) and (iii) effect because they are higher order in an expansion in the time interval it takes for the light to reach the receiver. The first effect is the only important one. \n",
    "    1. Use __Statement 2__ above to deduce gravitational time dilation. \n",
    "\n",
    "<br><div style=\"text-align: right\"> \n",
    "[15 marks]\n",
    "</div>"
   ]
  },
  {
   "cell_type": "markdown",
   "metadata": {},
   "source": [
    "##### Solution\n",
    "1. We need to show that we can remove the effects of gravity by going to an accelerating frame. This way, it follows that the effects of gravity cannot be distinguished from acceleration. Since we are only discussing the motion of particles, it suffices to show that this is true for Newton's second law. If we consider a system that is acted upon by gravitational ($\\vec{F}_g$) and non-gravitational ($\\vec{F}_{ng}$) forces, then we have\n",
    "\\begin{align}\n",
    "    m_i \\frac{d^2 \\vec{x}}{dt^2} = \\vec{F}_{g}+ \\vec{F}_{ng} = m_g \\vec{g} + \\vec{F}_{ng}.\n",
    "\\end{align}\n",
    "If we then change variables to an accelerating frame as is suggested in the problem, then we have:\n",
    "\\begin{align}\n",
    "    m_i \\left(\\frac{d^2 \\vec{x}'}{dt'^2} + \\vec{g}\\right) =  m_i \\frac{d^2 \\vec{x}'}{dt'^2} + m_i\\vec{g} = m_g \\vec{g} + \\vec{F}_{ng}.\n",
    "\\end{align}\n",
    "when $m_i = m_g = m$, then we can cancel the $m\\vec{g}$ terms on both sides and remove the effects of gravity altogther. This way we can conclude that gravitational forces are indistinguishable from being in an accelerating frame. \n",
    "\n",
    "1. Different substances have masses that arise in different proportion from (i) the masses of subatomic particles (neutrons, electrons and protons) and (ii) the binding energies that hold these subatomic particles together (e.g. strong or electromagnetic binding energies). The ratio of gravitational to inertial mass will be equal for all these substances only if it is equal for each of the constituents. This implies that, to within current experimental accuracy, the binding energies of the known forces also satisfy the equivalence principle and is indirect evidence that the laws governing the forces themselves satisfy the equivalence principle. This is the EEP.\n",
    "\n",
    "1. When a wavefront just passes the receiver, the next wavefront is a distance $c t_S$ away. The time taken for it to reach the receiver is \n",
    "\\begin{align}\n",
    "    t_R = \\frac{c t_S}{c + v} = \\frac{t_S}{1 + v/c}.\n",
    "\\end{align}\n",
    "This is the classical Doppler effect for a moving receiver.\n",
    "\n",
    "1. We now use the equivalence principle to map the system of two clocks in a gravitational field to an accelerating rocket. We can then think of the accelerating rocket and know, thanks to the equivalence principle, that the conclusions we draw are also valid for clocks in a gravitational field. We then discuss the rocket scenario. \n",
    "\n",
    "For the rocket, the pulse of light from the clock at the top of the rocket takes \n",
    "\\begin{align}\n",
    "    t_h = \\frac{h}{c}\n",
    "\\end{align}\n",
    "to reach the receiver at the bottom. In that time, the receiver accelerates to a velocity\n",
    "\\begin{align}\n",
    "v = g t_h = \\frac{gh}{c}.\n",
    "\\end{align}\n",
    "Using the Doppler effect derived above, we then conclude that the time between received flashes is\n",
    "\\begin{align}\n",
    "t_R = \\frac{t_S}{1 + v/c} = \\frac{t_S}{1 + gh/c^2}.\n",
    "\\end{align}\n",
    "Phrasing this in terms of the clocks on the tower, we conclude that\n",
    "\\begin{align}\n",
    "\\Delta t_h = (1 + \\frac{gh}{c^2}) \\Delta t_0\n",
    "\\end{align}\n",
    "so that the time interval elapsed on a clock at height $h$ is related to the time interval elapsed on a clock at height $0$ by the time-dilation factor $1 + gh/c^2$. The direction of the dilation factor is such that the higher clock runs faster. \n"
   ]
  },
  {
   "cell_type": "markdown",
   "metadata": {},
   "source": [
    "#### Problem B3 [Bug-Rivet Paradox]"
   ]
  },
  {
   "cell_type": "markdown",
   "metadata": {},
   "source": [
    "Consider a bug hiding at the bottom of a hole of depth $L$ (in its rest frame). A rivet, with proper shaft length $a<L$, is moving towards the hole with velocity $v$. Clearly, when the rivet is at rest (i.e. in the limit $v\\rightarrow 0$), the bug is safe at the bottom of the hole as the rivet's head prevents it from reaching the bottom of the hole. This conclusion, however, may not be correct when the rivet is traveling at a relativistic velocity and slams on the wall. For instance, if we view the problem in the frame of the rivet, the hole is contracted to length $L/\\gamma$ so that for $\\gamma \\gg 1$, we could have $L/\\gamma < a$ and the bug is squished at the bottom of the hole.\n",
    "\n",
    "<br><div style=\"text-align: center\"> \n",
    "<img src=\"resources/BugRivet.png\" width=\"60%\" /><br>\n",
    "Figure 1. Diagram illustrating the bug-rivet paradox.\n",
    "</div>\n",
    "\n",
    "We want to find the minimum velocity $v_*$ at which the bug is squished. Do this by following these steps:\n",
    "1. Assume that all signals travel at the speed of light. Suppose that the head of rivet is stopped at time $t=0$ then show that the tip will stop at time $t_1 = \\frac{a}{\\gamma (1-v)}$\n",
    "2. The bug will be squished if $v t_1 > L - \\frac{a}{\\gamma}$. Rearrange this to get an inequality for $v$ and deduce $v_*$. \n",
    "\n",
    "<br><div style=\"text-align: right\"> \n",
    "[15 marks]\n",
    "</div>"
   ]
  },
  {
   "cell_type": "markdown",
   "metadata": {},
   "source": [
    "##### Solution\n",
    "1. In the bug frame, the length of the rivet is $a/\\gamma$ where $\\gamma = 1/\\sqrt{1-v^2}$. Suppose that the head of the rivet stop at $t = 0$. Then the signal from the head travels at speed $c$ (or 1 in our units) to right and the tip of the shaft travels at speed $v$ also to the right. The gap of $a/\\gamma$ is then closed with a speed of $1 - v$. The time taken for the signal to reach the tip is then\n",
    "\\begin{align}\n",
    "t_1 = \\frac{a}{\\gamma(1-v)}\n",
    "\\end{align}\n",
    "as required. \n",
    "\n",
    "1. By the time the signal reaches the tip of the rivet, the tip travels a distance $v t_1$. If this distance is greater than or equal to the remaining distance to the bug, namely $L - a/\\gamma$ then the bug will be squished. This is where the condition $vt_1 > L - a/\\gamma$ comes from. Finally, note that all quantities in this condition are functions of $v$ and so we can rearrange this inequality to get an inequality for $v$. This gives:\n",
    "\\begin{align}\n",
    "vt_1 &> L - \\frac{a}{\\gamma} \\\\\n",
    "\\frac{v a}{\\gamma (1-v)} &> \\frac{\\gamma L - a}{\\gamma} \\\\\n",
    "\\frac{va}{1-v} + a &> \\frac{L}{\\sqrt{1- v^2}} \\\\\n",
    "\\frac{a}{1-v} &> \\frac{L}{\\sqrt{1- v^2}} \\\\\n",
    "\\frac{a}{1-v} &> \\frac{L}{\\sqrt{(1-v)(1+v}} \\\\\n",
    "\\frac{a}{L} &> \\sqrt{\\frac{1-v}{1+v}} \\\\\n",
    "v &> \\frac{1 - (a/L)^2}{1+(a/L)^2}\n",
    "\\end{align}\n",
    "This is a lower bound for $v$ so the RHS is exactly the required quantity $v_*$. "
   ]
  },
  {
   "cell_type": "markdown",
   "metadata": {},
   "source": []
  }
 ],
 "metadata": {
  "kernelspec": {
   "display_name": "Python 3 (ipykernel)",
   "language": "python",
   "name": "python3"
  },
  "language_info": {
   "codemirror_mode": {
    "name": "ipython",
    "version": 3
   },
   "file_extension": ".py",
   "mimetype": "text/x-python",
   "name": "python",
   "nbconvert_exporter": "python",
   "pygments_lexer": "ipython3"
  },
  "vscode": {
   "interpreter": {
    "hash": "31f2aee4e71d21fbe5cf8b01ff0e069b9275f58929596ceb00d14d90e3e16cd6"
   }
  }
 },
 "nbformat": 4,
 "nbformat_minor": 2
}
