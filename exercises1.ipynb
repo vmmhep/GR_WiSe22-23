{
 "cells": [
  {
   "cell_type": "markdown",
   "metadata": {},
   "source": [
    "<div style=\"text-align: left\"> \n",
    "PHYS736 Introduction to General Relativity <br>\n",
    "Lecturers: Viraf M. Mehta and Georges Obied \n",
    "<div style=\"text-align: right\"> \n",
    "Birzeit University <br>\n",
    "Winter Term 2022\n",
    "</div></div>"
   ]
  },
  {
   "cell_type": "markdown",
   "metadata": {},
   "source": [
    "----"
   ]
  },
  {
   "cell_type": "markdown",
   "metadata": {},
   "source": [
    "# Assignment 1"
   ]
  },
  {
   "cell_type": "markdown",
   "metadata": {},
   "source": [
    "----"
   ]
  },
  {
   "cell_type": "markdown",
   "metadata": {},
   "source": [
    "## Special Relativity"
   ]
  },
  {
   "cell_type": "markdown",
   "metadata": {
    "tags": [
     "question"
    ]
   },
   "source": [
    "### Problem 1 [Coordinate Transformations]"
   ]
  },
  {
   "cell_type": "markdown",
   "metadata": {},
   "source": [
    "Consider the following coordinate transformation\n",
    "\\begin{align}\n",
    "\\begin{split}\\nonumber\n",
    "t^\\prime &=t \\\\\n",
    "x^{\\prime} &=x \\cos (\\omega t)+y \\sin (\\omega t) \\\\\n",
    "y^{\\prime} &=-x \\sin (\\omega t)+y \\cos (\\omega t) \\\\\n",
    "z^{\\prime} &=z\n",
    "\\end{split}\n",
    "\\end{align}\n",
    "where $\\omega \\in \\mathbb{R}$ is an arbitrary constant. Consider also the vector $u \\in V$ with components $u^\\mu=\\delta_1^\\mu$ in the coordinate basis $\\partial_\\mu$ with the coordinates $\\left\\{x^\\mu\\right\\}=(t, x, y, z)$. $\\delta_\\nu^\\mu$ denotes the Kronecker-Delta symbol.\n",
    "1. Give the components of $u$ in the basis $\\partial_{\\mu^{\\prime}}$ with coordinates $\\left\\{x^{\\prime \\mu}\\right\\}=\\left(t^{\\prime}, x^{\\prime}, y^{\\prime}, z^{\\prime}\\right)$.\n",
    "\n",
    "1. Compute explicitly the transformation $\\Lambda_{\\mu^{\\prime}}^\\mu$ defined by $\\partial_{\\mu^{\\prime}}=\\Lambda_{\\mu^{\\prime}}^\\mu \\partial_\\mu$.\n"
   ]
  },
  {
   "cell_type": "markdown",
   "metadata": {
    "tags": [
     "solution"
    ]
   },
   "source": [
    "_Provide your answer(s) here_"
   ]
  },
  {
   "cell_type": "markdown",
   "metadata": {},
   "source": [
    "### Problem 2 [The Metric Tensor]"
   ]
  },
  {
   "cell_type": "markdown",
   "metadata": {},
   "source": [
    "\n",
    "\n",
    "Consider the metric tensor of Minkowski spacetime $\\eta_{\\mu \\nu}=\\operatorname{diag}(-1,1,1,1)$. Under a coordinate transformation\n",
    "\\begin{align}\n",
    "\\begin{split}\\nonumber\n",
    "&t^{\\prime}=t \\\\\n",
    "&x=r \\sin \\theta \\cos \\phi \\\\\n",
    "&y=r \\sin \\theta \\sin \\phi \\\\\n",
    "&z=r \\cos \\theta\n",
    "\\end{split}\n",
    "\\end{align}\n",
    "the components $\\eta_{\\mu \\nu}$ are transformed to $\\tilde{\\eta}_{\\mu^{\\prime} \\nu^{\\prime}}$.\n",
    "\n",
    "1. Compute $\\tilde{\\eta}_{\\mu^{\\prime} \\nu^{\\prime}}$ in the new coordinates $\\{t, r, \\theta, \\phi\\}$.\n",
    "\n",
    "1. A homogeneous, isotropic universe can be described by the metric tensor\n",
    "\\begin{align}\\nonumber\n",
    "g_{\\mu \\nu}=\\operatorname{diag}\\left(-1, a(t) /\\left(1-k r^2\\right), a(t) r^2, a(t) r^2 \\sin ^2 \\theta\\right)\n",
    "\\end{align}\n",
    "For what values of $a(t)$ and $k$ does $g_{\\mu \\nu}$ describe Minkowski spacetime?\n"
   ]
  },
  {
   "cell_type": "markdown",
   "metadata": {},
   "source": [
    "_Provide your answer(s) here_"
   ]
  },
  {
   "cell_type": "markdown",
   "metadata": {},
   "source": [
    "### Problem 3 [Tensor Notation]"
   ]
  },
  {
   "cell_type": "markdown",
   "metadata": {},
   "source": [
    "Prove the following vector identities in tensor notation:\n",
    "\n",
    "1. $\\vec{\\nabla}(\\vec{v} \\cdot \\vec{w})=(\\vec{w} \\cdot \\vec{\\nabla}) \\vec{v}+(\\vec{v} \\cdot \\vec{\\nabla}) \\vec{w}+\\vec{w} \\times(\\vec{\\nabla} \\times \\vec{v})+\\vec{v} \\times(\\vec{\\nabla} \\times \\vec{w})$\n",
    "\n",
    "1. $\\vec{\\nabla} \\times(\\vec{v} \\times \\vec{w})=\\vec{v}(\\vec{\\nabla} \\cdot \\vec{w}) - (\\vec{v} \\cdot \\vec{\\nabla}) \\vec{w} +(\\vec{w} \\cdot \\vec{\\nabla}) \\vec{v}-\\vec{w}(\\vec{\\nabla} \\cdot \\vec{v})$\n",
    "\n",
    "_Hint_: In Einstein convention, we have the following relations in 3D in tensor notation:\n",
    "\n",
    "* $ \\left( \\nabla \\times \\vec{A}\\right)^i = \\epsilon^{ijk} \\partial_{j} A_k $ where $\\epsilon^{ijk}$ is a completely anti-symmetric tensor with the convention $\\epsilon^{123} = +1$ and its even permutations.\n",
    "\n",
    "* $\\epsilon_{i j k} \\epsilon^{p q k}=\\delta_i^p \\delta_j^q-\\delta_i^q\\delta_j^p$\n",
    "\n",
    "* $\\epsilon_{j m n} \\epsilon^{i m n}=2 \\delta_j^i$\n",
    "\n",
    "* $\\epsilon^{ijk} \\epsilon_{ijk} = 6$\n",
    "\n",
    "* More generally:\n",
    "\n",
    "\\begin{align}\n",
    "\\begin{split}\\nonumber\n",
    "\\epsilon_{i j k} \\epsilon_{l m n} &=\\Biggl|\n",
    "\\begin{array}{ccc}\n",
    "\\delta_{i l} & \\delta_{i m} & \\delta_{i n} \\\\\n",
    "\\delta_{j l} & \\delta_{j m} & \\delta_{j n} \\\\\n",
    "\\delta_{k l} & \\delta_{k m} & \\delta_{k n}\n",
    "\\end{array}\n",
    "\\Biggr|\\\\[2em]\n",
    "&=\\delta_{i l}\\left(\\delta_{j m} \\delta_{k n}-\\delta_{j n} \\delta_{k m}\\right)-\\delta_{i m}\\left(\\delta_{j l} \\delta_{k n}-\\delta_{j n} \\delta_{k l}\\right)+\\delta_{i n}\\left(\\delta_{j l} \\delta_{k m}-\\delta_{j m} \\delta_{k l}\\right) .\n",
    "\\end{split}\n",
    "\\end{align}"
   ]
  },
  {
   "cell_type": "markdown",
   "metadata": {},
   "source": [
    "_Provide your answer(s) here_"
   ]
  },
  {
   "cell_type": "markdown",
   "metadata": {},
   "source": [
    "### Problem 4 [Lorentz Transformations]"
   ]
  },
  {
   "cell_type": "markdown",
   "metadata": {},
   "source": [
    "Lorentz transformations preserve the scalar product. If for two 4-vectors $x^\\mu$ and $y^\\mu$ we have $x^\\mu x_\\mu=y^\\mu y_\\mu$, then there exists a Lorentz transformation for which $y^\\mu=\\Lambda_\\nu^\\mu x^\\nu$. The Lorentz transformations include Lorentz boosts \\& spatial rotations. The following transformations:\n",
    "\n",
    "\\begin{align}\\nonumber\n",
    "\\Lambda_{\\mathrm{boost}, x}=\\Biggl(\n",
    "\\begin{array}{cccc}\n",
    "\\gamma & \\gamma \\beta & 0 & 0 \\\\\n",
    "\\gamma \\beta & \\gamma & 0 & 0 \\\\\n",
    "0 & 0 & 1 & 0 \\\\\n",
    "0 & 0 & 0 & 1\n",
    "\\end{array}\n",
    "\\Biggr), && \\Lambda_{\\mathrm{rotation }, x y}=\\Biggl(\n",
    "    \\begin{array}{cccc}\n",
    "1 & 0 & 0 & 0 \\\\\n",
    "0 & \\cos \\alpha & -\\sin \\alpha & 0 \\\\\n",
    "0 & \\sin \\alpha & \\cos \\alpha & 0 \\\\\n",
    "0 & 0 & 0 & 1\n",
    "\\end{array}\n",
    "\\Biggr)\n",
    "\\end{align}\n",
    "are two examples for a boost in $x$-direction and a rotation about the $z$-axis respectively. Here $\\gamma=(1-\\beta^2)^{-1 / 2}$ is the Lorentz factor and $\\beta=v / c$.\n",
    "\n",
    "1.  Show that the combined Lorentz transformation $\\Lambda_{\\mathrm{rotation}, \\ x y} \\cdot \\Lambda_{\\mathrm{boost}, \\  x}$ (a boost, followed by a rotation) leaves the scalar product invariant."
   ]
  },
  {
   "cell_type": "markdown",
   "metadata": {},
   "source": [
    "_Provide your answer(s) here_"
   ]
  },
  {
   "cell_type": "markdown",
   "metadata": {},
   "source": [
    "### Problem 5 [Velocity Transformations]"
   ]
  },
  {
   "cell_type": "markdown",
   "metadata": {},
   "source": [
    "Consider a Lorentz boost in the $x$-direction with constant velocity $v$:\n",
    "\n",
    "\\begin{align}\n",
    "\\begin{split}\\nonumber\n",
    "t^{\\prime} &=\\gamma(t-x \\beta / c) \\\\\n",
    "x^{\\prime} &=\\gamma(x-v t) \\\\\n",
    "y^{\\prime} &=y \\\\\n",
    "z^{\\prime} &=z\n",
    "\\end{split}\n",
    "\\end{align}\n",
    "\n",
    "1. What are the associated velocity transformations: $d x^{\\prime} / d t^{\\prime}=\\ldots, d y^{\\prime} / d t^{\\prime}=\\ldots, d z^{\\prime} / d t^{\\prime}=\\ldots$?\n",
    "\n",
    "1. Show that the speed of light $c$ is invariant under this Lorentz boost.\n",
    "\n",
    "1. Show that in the limit $v \\lll c$ the derived velocity transformations reduce to the Galilean transformations."
   ]
  },
  {
   "cell_type": "markdown",
   "metadata": {},
   "source": [
    "_Provide your answer(s) here_"
   ]
  },
  {
   "cell_type": "markdown",
   "metadata": {},
   "source": [
    "### Problem 6 [Relativistic Maxwell's Equations]"
   ]
  },
  {
   "cell_type": "markdown",
   "metadata": {},
   "source": [
    "The Electromagnetic Field Tensor is defined as:\n",
    "\\begin{align}\n",
    "\\nonumber\n",
    "F^{\\mu\\nu}=\\Biggl(\n",
    "\\begin{array}{cccc}\n",
    "0 & E_x & E_y & E_z \\\\\n",
    "-E_x & 0 & B_z & -B_y \\\\\n",
    "-E_y & -B_z & 0 & B_x \\\\\n",
    "-E_z & B_y & -B_x & 0\n",
    "\\end{array}\n",
    "\\Biggr),\n",
    "\\end{align}\n",
    "where $\\vec{E}$ and $\\vec{B}$ are the electric and magnetic fields.\n",
    "\n",
    "\n",
    "1. Compute $F_{\\mu \\nu}$.\n",
    "\n",
    "1. Show that:\n",
    "\\begin{align}\\nonumber\n",
    "\\epsilon^{\\mu \\nu \\rho \\sigma} \\partial_\\nu F_{\\rho \\sigma}=0\n",
    "\\end{align}\n",
    "is equivalent to the homogeneous Maxwell equations, where $\\epsilon^{\\mu \\nu \\rho \\sigma}$ is the completely antisymmetric tensor.\n",
    "\n",
    "1. Show that:\n",
    "\\begin{align}\\nonumber\n",
    "\\partial_\\nu F^{\\mu \\nu}=\\mu_0 J^\\mu\n",
    "\\end{align}\n",
    "is equivalent to the inhomogeneous Maxwell equations, where $\\mu_0$ is the vacuum permeability and $J^\\mu=(\\rho, \\vec{j})^T$ is the four vector of charge and current density."
   ]
  },
  {
   "cell_type": "markdown",
   "metadata": {},
   "source": [
    "_Provide your answer(s) here_"
   ]
  },
  {
   "cell_type": "markdown",
   "metadata": {},
   "source": [
    "### Problem 7 [Relativistic Dynamics]"
   ]
  },
  {
   "cell_type": "markdown",
   "metadata": {},
   "source": [
    "\n",
    "The four-momentum for a particle with mass $m$ is defined as $(c=1)$:\n",
    "\\begin{align}\\nonumber\n",
    "p^\\mu:=m \\frac{d x^\\mu}{d \\tau}\n",
    "\\end{align}\n",
    "with infinitesimal proper time:\n",
    "\\begin{align}\\nonumber\n",
    "d \\tau^2=-\\eta_{\\mu \\nu} d x^\\mu d x^\\nu .\n",
    "\\end{align}\n",
    "\n",
    "1. Show that $\\vec{p}:=\\left(p^1, p^2, p^3\\right)^T \\rightarrow m \\vec{v}$ in the limit $\\beta \\rightarrow 0$, where $\\vec{v}$ is the three dimensional Newtonian velocity.\n",
    "\n",
    "1. Compute $p^0$ in this limit. What is the physical meaning of the first two terms of the series?\n",
    "\n",
    "1. Compute $\\eta_{\\mu \\nu} p^\\mu p^\\nu$.\n",
    "\n",
    "1. The four force is defined as:\n",
    "\\begin{align}\\nonumber\n",
    "f^\\mu:=\\frac{d p^\\mu}{d \\tau},\n",
    "\\end{align}\n",
    "Show that $\\eta_{\\mu \\nu} f^\\mu p^\\nu=0$. Using this result, express $f^0$ as a function of $\\vec{f}:=\\left(f^1, f^2, f^3\\right)^T$.\n",
    "\n",
    "1. Show that $f^\\mu$ in the limit $\\beta \\rightarrow 0$ reduces to Newton's second law.\n",
    "\n",
    "1. Now consider specifically:\n",
    "\\begin{align}\n",
    "f^\\mu:=k F^{\\mu \\nu} p^\\rho \\eta_{\\rho \\nu} .\n",
    "\\end{align}\n",
    "Show that $f^\\mu$ is well defined, so that $\\eta_{\\mu \\nu} f^\\mu p^\\nu=0$ is satisfied.\n",
    "\n",
    "1. Show that with this force the ordinary components of $f^\\mu$ will be the Lorentz align of electrodynamics, if $k=e / m$. What does the temporal component describe?"
   ]
  },
  {
   "cell_type": "markdown",
   "metadata": {},
   "source": [
    "_Provide your answer(s) here_"
   ]
  },
  {
   "cell_type": "markdown",
   "metadata": {},
   "source": [
    "### Problem 8 [Energy-Momentum Relation]"
   ]
  },
  {
   "cell_type": "markdown",
   "metadata": {},
   "source": [
    "Show that the energy-momentum relationship $E^2=p^2 c^2+m^2 c^4$ follows from $E=\\gamma m c^2$ \\& $p=\\gamma m v$ where $\\gamma$ is the Lorentz factor given by $ \\gamma = 1/\\sqrt{1 - \\beta^2} = 1/\\sqrt{1 - \\frac{v^2}{c^2}}$, $m$ is the rest mass of the particle and $v$ is the velocity of the particle. "
   ]
  },
  {
   "cell_type": "markdown",
   "metadata": {},
   "source": [
    "_Provide your answer(s) here_"
   ]
  }
 ],
 "metadata": {
  "kernelspec": {
   "display_name": "Python 3.6.10 ('base')",
   "language": "python",
   "name": "python3"
  },
  "language_info": {
   "name": "python",
   "version": "3.6.10"
  },
  "orig_nbformat": 4,
  "vscode": {
   "interpreter": {
    "hash": "534d17f14ca2b0ab74a378f888bb866ace3913b5090da2a8c2a1bf882602386f"
   }
  }
 },
 "nbformat": 4,
 "nbformat_minor": 2
}
