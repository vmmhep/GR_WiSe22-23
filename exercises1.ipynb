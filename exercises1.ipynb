{
 "cells": [
  {
   "cell_type": "markdown",
   "metadata": {},
   "source": [
    "<div style=\"text-align: left\"> \n",
    "PHYS736 Introduction to General Relativity <br>\n",
    "Lecturers: Viraf M. Mehta and Georges Obied \n",
    "<div style=\"text-align: right\"> \n",
    "Birzeit University <br>\n",
    "Winter Term 2022\n",
    "</div></div>"
   ]
  },
  {
   "cell_type": "markdown",
   "metadata": {},
   "source": [
    "----"
   ]
  },
  {
   "cell_type": "markdown",
   "metadata": {},
   "source": [
    "# Assignment 1"
   ]
  },
  {
   "cell_type": "markdown",
   "metadata": {},
   "source": [
    "----"
   ]
  },
  {
   "cell_type": "markdown",
   "metadata": {},
   "source": [
    "## Special Relativity\n",
    "### Problem 1 [Coordinate Transformations]"
   ]
  },
  {
   "cell_type": "markdown",
   "metadata": {},
   "source": [
    "Consider the following coordinate transformation\n",
    "\\begin{align}\n",
    "\\begin{split}\\nonumber\n",
    "t^\\prime &=t \\\\\n",
    "x^{\\prime} &=x \\cos (\\omega t)+y \\sin (\\omega t) \\\\\n",
    "y^{\\prime} &=-x \\sin (\\omega t)+y \\cos (\\omega t) \\\\\n",
    "z^{\\prime} &=z\n",
    "\\end{split}\n",
    "\\end{align}\n",
    "where $\\omega \\in \\mathbb{R}$ is an arbitrary constant. Consider also the vector $u \\in V$ with components $u^\\mu=\\delta_1^\\mu$ in the coordinate basis $\\partial_\\mu$ with the coordinates $\\left\\{x^\\mu\\right\\}=(t, x, y, z)$. $\\delta_\\nu^\\mu$ denotes the Kronecker-Delta symbol.\n",
    "1. Give the components of $u$ in the basis $\\partial_{\\mu^{\\prime}}$ with coordinates $\\left\\{x^{\\prime \\mu}\\right\\}=\\left(t^{\\prime}, x^{\\prime}, y^{\\prime}, z^{\\prime}\\right)$.\n",
    "\n",
    "1. Compute explicitly the transformation $\\Lambda_{\\mu^{\\prime}}^\\mu$ defined by $\\partial_{\\mu^{\\prime}}=\\Lambda_{\\mu^{\\prime}}^\\mu \\partial_\\mu$.\n"
   ]
  },
  {
   "cell_type": "markdown",
   "metadata": {},
   "source": [
    "_Provide your answer(s) here_"
   ]
  },
  {
   "cell_type": "markdown",
   "metadata": {},
   "source": [
    "### Problem 2 [The Metric Tensor]"
   ]
  },
  {
   "cell_type": "markdown",
   "metadata": {},
   "source": [
    "\n",
    "\n",
    "Consider the metric tensor of Minkowski spacetime $\\eta_{\\mu \\nu}=\\operatorname{diag}(-1,1,1,1)$. Under a coordinate transformation\n",
    "\\begin{align}\n",
    "\\begin{split}\\nonumber\n",
    "&t^{\\prime}=t \\\\\n",
    "&x=r \\sin \\theta \\cos \\phi \\\\\n",
    "&y=r \\sin \\theta \\sin \\phi \\\\\n",
    "&z=r \\cos \\theta\n",
    "\\end{split}\n",
    "\\end{align}\n",
    "the components $\\eta_{\\mu \\nu}$ are transformed to $\\tilde{\\eta}_{\\mu^{\\prime} \\nu^{\\prime}}$.\n",
    "\n",
    "1. Compute $\\tilde{\\eta}_{\\mu^{\\prime} \\nu^{\\prime}}$ in the new coordinates $\\{t, r, \\theta, \\phi\\}$.\n",
    "\n",
    "1. A homogeneous, isotropic universe can be described by the metric tensor\n",
    "\\begin{align}\\nonumber\n",
    "g_{\\mu \\nu}=\\operatorname{diag}\\left(-1, a(t) /\\left(1-k r^2\\right), a(t) r^2, a(t) r^2 \\sin ^2 \\theta\\right)\n",
    "\\end{align}\n",
    "For what values of $a(t)$ und $k$ does $g_{\\mu \\nu}$ describe Minkowski spacetime?\n"
   ]
  },
  {
   "cell_type": "markdown",
   "metadata": {},
   "source": [
    "_Provide your answer(s) here_"
   ]
  },
  {
   "cell_type": "markdown",
   "metadata": {},
   "source": [
    "### Problem 3 [Tensor Notation]"
   ]
  },
  {
   "cell_type": "markdown",
   "metadata": {},
   "source": [
    "Prove the following vector identities in tensor notation:\n",
    "\n",
    "1. $\\vec{\\nabla}(\\vec{v} \\cdot \\vec{w})=(\\vec{w} \\cdot \\vec{\\nabla}) \\vec{v}+(\\vec{v} \\cdot \\vec{\\nabla}) \\vec{w}+\\vec{w} \\times(\\vec{\\nabla} \\times \\vec{v})+\\vec{v} \\times(\\vec{\\nabla} \\times \\vec{w})$\n",
    "\n",
    "1. $\\vec{\\nabla} \\times(\\vec{v} \\times \\vec{w})=\\vec{v}(\\vec{\\nabla} \\cdot \\vec{w}) - (\\vec{v} \\cdot \\vec{\\nabla}) \\vec{w} +(\\vec{w} \\cdot \\vec{\\nabla}) \\vec{v}-\\vec{w}(\\vec{\\nabla} \\cdot \\vec{v})$\n",
    "\n",
    "_Hint_: In Einstein convention, we have the following relations in 3D in tensor notation:\n",
    "\n",
    "* $ \\left( \\nabla \\times \\vec{A}\\right)^i = \\epsilon^{ijk} \\partial_{j} A_k $ where $\\epsilon^{ijk}$ is a completely anti-symmetric tensor with the convention $\\epsilon^{123} = +1$ and its even permutations.\n",
    "\n",
    "* $\\epsilon_{i j k} \\epsilon^{p q k}=\\delta_i^p \\delta_j^q-\\delta_i^q\\delta_j^p$\n",
    "\n",
    "* $\\epsilon_{j m n} \\epsilon^{i m n}=2 \\delta_j^i$\n",
    "\n",
    "* $\\epsilon^{ijk} \\epsilon_{ijk} = 6$\n",
    "\n",
    "* More generally:\n",
    "\n",
    "\\begin{align}\n",
    "\\begin{split}\\nonumber\n",
    "\\epsilon_{i j k} \\epsilon_{l m n} &=\\Biggl|\n",
    "\\begin{array}{ccc}\n",
    "\\delta_{i l} & \\delta_{i m} & \\delta_{i n} \\\\\n",
    "\\delta_{j l} & \\delta_{j m} & \\delta_{j n} \\\\\n",
    "\\delta_{k l} & \\delta_{k m} & \\delta_{k n}\n",
    "\\end{array}\n",
    "\\Biggr|\\\\[2em]\n",
    "&=\\delta_{i l}\\left(\\delta_{j m} \\delta_{k n}-\\delta_{j n} \\delta_{k m}\\right)-\\delta_{i m}\\left(\\delta_{j l} \\delta_{k n}-\\delta_{j n} \\delta_{k l}\\right)+\\delta_{i n}\\left(\\delta_{j l} \\delta_{k m}-\\delta_{j m} \\delta_{k l}\\right) .\n",
    "\\end{split}\n",
    "\\end{align}"
   ]
  },
  {
   "cell_type": "markdown",
   "metadata": {},
   "source": [
    "_Provide your answer(s) here_"
   ]
  },
  {
   "cell_type": "markdown",
   "metadata": {},
   "source": [
    "### Problem 4 [Lorentz Transformations]"
   ]
  },
  {
   "cell_type": "markdown",
   "metadata": {},
   "source": [
    "Lorentz transformations preserve the scalar product. If for two 4-vectors $x^\\mu$ and $y^\\mu$ we have $x^\\mu x_\\mu=y^\\mu y_\\mu$, then there exists a Lorentz transformation for which $y^\\mu=\\Lambda_\\nu^\\mu x^\\nu$. The Lorentz transformations include Lorentz boosts \\& spatial rotations. The following transformations:\n",
    "\n",
    "\\begin{align}\\nonumber\n",
    "\\Lambda_{\\mathrm{boost}, x}=\\Biggl(\n",
    "\\begin{array}{cccc}\n",
    "\\gamma & \\gamma \\beta & 0 & 0 \\\\\n",
    "\\gamma \\beta & \\gamma & 0 & 0 \\\\\n",
    "0 & 0 & 1 & 0 \\\\\n",
    "0 & 0 & 0 & 1\n",
    "\\end{array}\n",
    "\\Biggr), && \\Lambda_{\\mathrm{rotation }, x y}=\\Biggl(\n",
    "    \\begin{array}{cccc}\n",
    "1 & 0 & 0 & 0 \\\\\n",
    "0 & \\cos \\alpha & -\\sin \\alpha & 0 \\\\\n",
    "0 & \\sin \\alpha & \\cos \\alpha & 0 \\\\\n",
    "0 & 0 & 0 & 1\n",
    "\\end{array}\n",
    "\\Biggr)\n",
    "\\end{align}\n",
    "are two examples for a boost in $x$-direction and a rotation about the $z$-axis respectively. Here $\\gamma=(1-\\beta^2)^{-1 / 2}$ is the Lorentz factor and $\\beta=v / c$.\n",
    "\n",
    "1.  Show that the combined Lorentz transformation $\\Lambda_{\\mathrm{rotation}, \\ x y} \\cdot \\Lambda_{\\mathrm{boost}, \\  x}$ (a boost, followed by a rotation) leaves the scalar product invariant."
   ]
  },
  {
   "cell_type": "markdown",
   "metadata": {},
   "source": [
    "_Provide your answer(s) here_"
   ]
  },
  {
   "cell_type": "markdown",
   "metadata": {},
   "source": []
  }
 ],
 "metadata": {
  "language_info": {
   "name": "python"
  },
  "orig_nbformat": 4
 },
 "nbformat": 4,
 "nbformat_minor": 2
}
