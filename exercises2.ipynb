{
 "cells": [
  {
   "cell_type": "markdown",
   "metadata": {},
   "source": [
    "<div style=\"text-align: left\"> \n",
    "PHYS736 Introduction to General Relativity <br>\n",
    "Lecturers: Viraf M. Mehta and Georges Obied \n",
    "<div style=\"text-align: right\"> \n",
    "Birzeit University <br>\n",
    "Winter Term 2022\n",
    "</div></div>"
   ]
  },
  {
   "cell_type": "markdown",
   "metadata": {},
   "source": [
    "----"
   ]
  },
  {
   "cell_type": "markdown",
   "metadata": {},
   "source": [
    "# Assignment 2"
   ]
  },
  {
   "cell_type": "markdown",
   "metadata": {},
   "source": [
    "----"
   ]
  },
  {
   "cell_type": "markdown",
   "metadata": {},
   "source": [
    "## Manifolds"
   ]
  },
  {
   "cell_type": "markdown",
   "metadata": {},
   "source": [
    "#### Problem 1 [The Unit Circle $S^1$]\n",
    "\n",
    "Most manifolds cannot be covered with just one chart. Consider for example the unit circle $S^1:=\\left\\{\\left(x_1, x_2\\right) \\in \\mathbb{R}^2:\\left(x_1\\right)^2+\\left(x_2\\right)^2=1\\right\\}$. This is a one-dimensional manifold of class $C^{\\infty}$. Conventionally, it is parameterised via the map $\\phi: S^1 \\rightarrow \\mathbb{R}^1$ according to:\n",
    "\\begin{align}\\nonumber\n",
    "\\phi\\left(x_1, x_2\\right):=\\tan ^{-1}\\left(x_2 / x_1\\right) .\n",
    "\\end{align}\n",
    "and thus:\n",
    "\\begin{align}\\nonumber\n",
    "\\phi^{-1}(\\varphi)=(\\cos (\\varphi), \\sin (\\varphi))\n",
    "\\end{align}\n",
    "\n",
    "1. Looking at the image of $\\phi\\left(S^1\\right)$ and carefully reading the definition of a manifold, why can $S^1$ not be expressed by only one chart?\n",
    "\n",
    "1. Construct two charts that constitute an atlas for $S^1$. Figure 1 might help you getting started.\n"
   ]
  },
  {
   "cell_type": "markdown",
   "metadata": {},
   "source": [
    "<img src=\"resources/Fig1.png\" width=\"50%\" /><br>\n",
    "Figure 1.  Two coordinate charts, which together cover $S^1$"
   ]
  },
  {
   "cell_type": "markdown",
   "metadata": {},
   "source": [
    "_Provide your answer(s) here_"
   ]
  },
  {
   "cell_type": "markdown",
   "metadata": {},
   "source": [
    "#### Problem 2 [The Unit Sphere $S^3$]"
   ]
  },
  {
   "cell_type": "markdown",
   "metadata": {},
   "source": [
    "A somewhat more complicated example is provided by the unit sphere $S^2:=\\left\\{\\left(x_1, x_2, x_3\\right) \\in \\mathbb{R}^3\\right.$ : $\\left.\\left(x_1\\right)^2+\\left(x_2\\right)^2+\\left(x_3\\right)^2=1\\right\\}$, where once again no single chart will cover the manifold. Though, we can construct a chart from an open subset $U_1:=S^2 \\backslash\\{(0,0,1)\\}$, defined to be the sphere minus the north pole, via stereographic projection, illustrated in Figure \\ref{Fig2}. Thus, we draw a straight line from the north pole to the plane defined by $x_3=-1$, and assign to the point on $S^2$ intercepted by the line the Cartesian coordinates $\\left(y_1, y_2\\right)$ of the appropriate point on the plane.\n",
    " \n",
    "\n",
    "1. Parametrise the straight line $L:=\\left\\{\\left(X^1(t), X^2(t), X^3(t)\\right): t \\in \\mathbb{R}\\right\\}$ such that $t=0$ represents the north pole of $S^2$ and $t=1$ is the interception point $\\left\\{\\left(x_1, x_2, x_3\\right)\\right\\}$ (see Figure 2).\n",
    "\n",
    "1. Find $t_i \\in \\mathbb{R}$ for which $L$ intercepts with the plane defined by $x_3=-1$.\n",
    "\n",
    "1. Put $t_i$ into your parameterisation (a) to find, that the map of the stereographic projection is given by:\n",
    "\\begin{align}\\nonumber\n",
    "\\phi_1\\left(x_1, x_2, x_3\\right):=\\left(y_1, y_2\\right)=\\left(\\frac{2 x_1}{1-x_3}, \\frac{2 x_2}{1-x_3}\\right) .\n",
    "\\end{align}\n",
    "\n",
    "1. In the same way, construct a stereographic projection onto the plane defined by $x_3=1$ and considering the open subset $U_2:=S^2 \\backslash\\{(0,0,-1)\\}$. The map should be:\n",
    "\\begin{align}\\nonumber\n",
    "\\phi_2\\left(x_1, x_2, x_3\\right):=\\left(z_1, z_2\\right)=\\left(\\frac{2 x_1}{1+x_3}, \\frac{2 x_2}{1+x_3}\\right) .\n",
    "\\end{align}\n",
    "\n",
    "1. Together, these two charts cover the entire manifold, and they overlap in the open subset $U_3:=S^2 \\backslash\\{(0,0,-1),(0,0,1)\\}$. Check that in $U_3$ the coordinate transformation $\\phi_2 \\circ \\phi_1^{-1}$ is given by:\n",
    "\\begin{align}\\nonumber\n",
    "z_i=\\frac{4 y_i}{\\left(y_1\\right)^2+\\left(y_2\\right)^2}\n",
    "\\end{align}"
   ]
  },
  {
   "cell_type": "markdown",
   "metadata": {},
   "source": [
    "<img src=\"resources/Fig2.png\" width=\"50%\"><br>\n",
    "Figure 2. Defining a stereographic coordinate chart on $S^2$ by projecting from the north pole down to a plane tangent to the south pole. Such a chart covers all the sphere except for the north pole itself."
   ]
  },
  {
   "cell_type": "markdown",
   "metadata": {},
   "source": [
    "_Provide your answer(s) here_"
   ]
  },
  {
   "cell_type": "markdown",
   "metadata": {},
   "source": [
    "#### Problem 3 [Atlas on $S^1$]"
   ]
  },
  {
   "cell_type": "markdown",
   "metadata": {},
   "source": [
    "Consider open subsets $U$ and $V$ of the unit circle $S^1$ in $\\mathbb{R}^2$ given by\n",
    "\\begin{align}\\nonumber\n",
    "\\begin{split}\n",
    "U=\\{(\\cos \\alpha, \\sin \\alpha): \\alpha \\in(0,2 \\pi)\\} \\\\\n",
    "V=\\{(\\cos \\alpha, \\sin \\alpha): \\alpha \\in(-\\pi, \\pi)\\}\n",
    "\\end{split}\n",
    "\\end{align}\n",
    "\n",
    "\n",
    "1. Prove that $\\mathbb{A}=\\{(U, \\varphi),(V, \\psi)\\}$, where\n",
    "\\begin{align}\\nonumber\n",
    "\\begin{split}\n",
    "&\\varphi: U \\rightarrow \\mathbb{R}, \\varphi(\\cos \\alpha, \\sin \\alpha)=\\alpha \\\\\n",
    "&\\psi: V \\rightarrow \\mathbb{R}, \\psi(\\cos \\alpha, \\sin \\alpha)=\\alpha\n",
    "\\end{split}\n",
    "\\end{align}\n",
    "is an atlas on $S^1$.\n",
    "\n",
    "1. Find the transition map $\\psi \\hspace{1mm} o \\hspace{1mm} \\varphi^{-1}$ to show that it is diffeomorphic on $U \\cap V$ to prove that the atlas $\\mathbb{A}$ is smooth. "
   ]
  },
  {
   "cell_type": "markdown",
   "metadata": {},
   "source": [
    "_Provide your answer(s) here_"
   ]
  },
  {
   "cell_type": "markdown",
   "metadata": {},
   "source": [
    "#### Problem 4 [The Infinitely Long Cylinder $S^1 \\times \\mathbb{R}$]"
   ]
  },
  {
   "cell_type": "markdown",
   "metadata": {},
   "source": [
    "In the first exercise we have seen, that the unit circle $S^1$ can not be covered by a single chart. Interestingly though, the seemingly more complex manifold \n",
    "\\begin{align}\\nonumber\n",
    "S^1 \\times \\mathbb{R}:=\\left\\{\\left(x^1, x^2, x^3\\right) \\in\\right.\\left.\\mathbb{R}^3:\\left(x^1\\right)^2+\\left(x^2\\right)^2=1\\right\\},\n",
    "\\end{align}\n",
    "representing an infinite cylinder, can be covered by a single chart.\n",
    "Explicitly construct the map from $S^1 \\times \\mathbb{R}$ onto the open set:\n",
    "\\begin{align}\\nonumber\n",
    "\\mathbb{R}^2 \\backslash\\{(0,0)\\}:=\\left\\{(r \\cos \\phi, r \\sin \\phi) \\in \\mathbb{R}^2: r>0, \\phi \\in(0,2 \\pi]\\right\\}\n",
    "\\end{align}\n",
    "by using polar coordinates. For Problem 1, we considered polar coordinates as well, but could not find a single map to cover the whole manifold $S^1$. Think about what changed between the two exercises."
   ]
  },
  {
   "cell_type": "markdown",
   "metadata": {},
   "source": [
    "_Provide your answer(s) here_"
   ]
  },
  {
   "cell_type": "markdown",
   "metadata": {},
   "source": [
    "#### Problem 4 [Tensor Operations]"
   ]
  },
  {
   "cell_type": "markdown",
   "metadata": {},
   "source": [
    "Let $\\mathbf{F}$ be a rank-2 antisymmetric tensor, $\\mathbf{G}$ a rank-2 symmetric tensor and $\\mathbf{X}$ a rank-3 antisymmetric tensor. Provide explicit expressions for the following tensors (here $[\\ldots]$ denotes antisymmetrization and $(\\ldots)$ denotes symmetrization of indices):\n",
    "\n",
    "1. $F_{[\\mu \\nu]}$\n",
    "1. $F_{(\\mu \\nu)}$\n",
    "1. $G_{[\\mu \\nu]}$\n",
    "1. $G_{(\\mu \\nu)}$\n",
    "1. $X_{[\\alpha \\beta \\gamma]}$\n",
    "1. $X_{(\\alpha \\beta \\gamma)}$\n",
    "1. $X_{[\\alpha \\beta] \\gamma}$\n",
    "1. $X_{(\\alpha \\beta) \\gamma}$\n",
    "1. $X_{[\\alpha \\beta](\\gamma)}$\n",
    "1. $X_{(\\alpha \\beta)[\\gamma]}$\n",
    "1. If $A^{\\mu \\nu} = - A^{\\nu \\mu}$ and $S_{\\mu \\nu} = S_{\\nu \\mu}$, then prove that the contraction $A^{\\mu \\nu} S_{\\mu \\nu} = 0$.\n"
   ]
  },
  {
   "cell_type": "markdown",
   "metadata": {},
   "source": [
    "_Provide your answer(s) here_"
   ]
  },
  {
   "cell_type": "markdown",
   "metadata": {},
   "source": [
    "#### Problem 6 [Integration in Curved Spacetime]"
   ]
  },
  {
   "cell_type": "markdown",
   "metadata": {},
   "source": [
    "In curved spacetime the infinitesimal volume element $d V=\\sqrt{-g} d^4 x$. A very useful expression which will be used when we use Gauss law in curved spacetime is the Jacobi formula:\n",
    "\\begin{align}\n",
    "\\nonumber\n",
    "\\partial_\\lambda g=g g^{\\mu \\nu} \\partial_\\lambda g_{\\mu \\nu},\n",
    "\\end{align}\n",
    "\n",
    "1. Verify explicitly that the expression give for the Jacobi formula works for a 2-dimensional metric (by considering an arbitrary $2 \\times 2$ matrix which is real as we are dealing with a metric).\n",
    "\n",
    "1. Laplace's formula for the determinant of an $n \\times n$ matrix A is:\n",
    "\\begin{align}\\nonumber\n",
    "\\mathrm{det\\,}(A)=\\sum_{j=1}^n a_{i j} C_{i j}\n",
    "\\end{align}\n",
    "    where $a_{i j}$ is the element at row $i$ and column $j$, and $C_{i j}$ are the cofactors. Starting from this, derive the Jacobi formula for a general n-dimensional spacetime given above.\n",
    "\n",
    "1. In cosmology the line element is given by:\n",
    "\\begin{align}\\nonumber\n",
    "d s^2=-\\mathrm{d} t^2+a^2(t)\\left(\\frac{\\mathrm{d} r^2}{1-k r^2}+r^2 \\mathrm{~d} \\theta^2+r^2 \\sin ^2 \\theta \\mathrm{d} \\phi^2\\right)\n",
    "\\end{align}\n",
    "    What is the infinitesimal spacetime volume element $d V$ in these coordinates? Show that this reduces to the regular Jacobian in spherical coordinates for flat static space $a(t)=1$ and $k=0$.\n"
   ]
  },
  {
   "cell_type": "markdown",
   "metadata": {},
   "source": [
    "_Provide your answer(s) here_"
   ]
  },
  {
   "cell_type": "markdown",
   "metadata": {},
   "source": [
    "#### Problem 7 [The Local Flatness Theorem]"
   ]
  },
  {
   "cell_type": "markdown",
   "metadata": {},
   "source": [
    "1. How many independent components are there in the 4-dimensional spacetime metric $g_{\\mu \\nu}$? How many independent components are there in a general 4-dimensional coordinate transformation matrix $\\Lambda_{\\mu^{\\prime}}^\\mu$ ? Argue that it is therefore always possible to put the metric into Minkowski form locally at any point on the manifold.\n",
    "\n",
    "1. There always exists a transformation matrix $\\mathrm{H}$, such that we can put a symmetric matrix $\\mathrm{A}$ into a form $\\mathrm{D}$ where the diagonal entries are the eigenvalues of $\\mathrm{A}$, and the off-diagonal elements are zero:\n",
    "\\begin{align}\\nonumber\n",
    "D=H^T A H\n",
    "\\end{align}\n",
    "Show that there exists another matrix $\\mathrm{N}$ such that:\n",
    "\\begin{align}\\nonumber\n",
    "\\tilde{D}=N^T D N\n",
    "\\end{align}\n",
    "is another diagonal matrix with elements on the diagonal which are $+1,0,-1$.\n",
    "\n",
    "1. Using your result above, why is it not possible to change the signature of a metric via a coordinate transformation, such that the canonical form is fixed for any (pseudo-)Riemannian manifold?\n",
    "\n",
    "1. Show that if A has an inverse, then none of the diagonal elements of $\\tilde{D}$ are zero.\n"
   ]
  },
  {
   "cell_type": "markdown",
   "metadata": {},
   "source": [
    "_Provide your answer(s) here_"
   ]
  },
  {
   "cell_type": "markdown",
   "metadata": {},
   "source": []
  }
 ],
 "metadata": {
  "kernelspec": {
   "display_name": "Python 3.6.10 ('base')",
   "language": "python",
   "name": "python3"
  },
  "language_info": {
   "codemirror_mode": {
    "name": "ipython",
    "version": 3
   },
   "file_extension": ".py",
   "mimetype": "text/x-python",
   "name": "python",
   "nbconvert_exporter": "python",
   "pygments_lexer": "ipython3",
   "version": "3.6.10"
  },
  "orig_nbformat": 4,
  "vscode": {
   "interpreter": {
    "hash": "534d17f14ca2b0ab74a378f888bb866ace3913b5090da2a8c2a1bf882602386f"
   }
  }
 },
 "nbformat": 4,
 "nbformat_minor": 2
}
