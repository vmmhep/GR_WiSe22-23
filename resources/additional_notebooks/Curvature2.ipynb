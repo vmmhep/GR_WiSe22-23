{
 "cells": [
  {
   "cell_type": "code",
   "execution_count": null,
   "id": "f86d3027-606b-4670-a77d-3a8efa0bc8ae",
   "metadata": {},
   "outputs": [],
   "source": []
  },
  {
   "cell_type": "code",
   "execution_count": 26,
   "id": "f383c7b7-5650-42b1-b195-fe77eaadc194",
   "metadata": {
    "tags": []
   },
   "outputs": [],
   "source": [
    "import sympy\n",
    "from einsteinpy.symbolic import MetricTensor, RicciTensor, RicciScalar, ChristoffelSymbols, RiemannCurvatureTensor\n",
    "sympy.init_printing()  # enables the best printing available in an environment"
   ]
  },
  {
   "cell_type": "code",
   "execution_count": 27,
   "id": "4d9288c7-2588-42d9-92c6-68d00f8fc22f",
   "metadata": {},
   "outputs": [
    {
     "data": {
      "image/png": "[encoded data removed]",
      "text/latex": [
       "$\\displaystyle \\left[\\begin{matrix}- v^{2} & 0\\\\0 & 1\\end{matrix}\\right]$"
      ],
      "text/plain": [
       "⎡  2   ⎤\n",
       "⎢-v   0⎥\n",
       "⎢      ⎥\n",
       "⎣ 0   1⎦"
      ]
     },
     "execution_count": 27,
     "metadata": {},
     "output_type": "execute_result"
    }
   ],
   "source": [
    "syms = sympy.symbols('u v')\n",
    "# define the metric\n",
    "metric = [[0 for i in range(2)] for i in range(2)]\n",
    "metric[0][0] = -syms[1]**2\n",
    "metric[1][1] = 1\n",
    "\n",
    "# creating metric object\n",
    "m_obj = MetricTensor(metric, syms)\n",
    "sympy.simplify(m_obj.tensor())"
   ]
  },
  {
   "cell_type": "code",
   "execution_count": 28,
   "id": "0758a5fc-3a48-43d5-8d63-16763efaef14",
   "metadata": {},
   "outputs": [
    {
     "data": {
      "image/png": "[encoded data removed]",
      "text/latex": [
       "$\\displaystyle \\left[\\begin{matrix}\\left[\\begin{matrix}0 & \\frac{1}{v}\\\\\\frac{1}{v} & 0\\end{matrix}\\right] & \\left[\\begin{matrix}v & 0\\\\0 & 0\\end{matrix}\\right]\\end{matrix}\\right]$"
      ],
      "text/plain": [
       "⎡⎡   1⎤        ⎤\n",
       "⎢⎢0  ─⎥        ⎥\n",
       "⎢⎢   v⎥  ⎡v  0⎤⎥\n",
       "⎢⎢    ⎥  ⎢    ⎥⎥\n",
       "⎢⎢1   ⎥  ⎣0  0⎦⎥\n",
       "⎢⎢─  0⎥        ⎥\n",
       "⎣⎣v   ⎦        ⎦"
      ]
     },
     "execution_count": 28,
     "metadata": {},
     "output_type": "execute_result"
    }
   ],
   "source": [
    "# Calculating the christoffel symbols\n",
    "ch = ChristoffelSymbols.from_metric(m_obj)\n",
    "sympy.simplify(ch.tensor())"
   ]
  },
  {
   "cell_type": "code",
   "execution_count": 29,
   "id": "097c352b-cbd3-4abb-b07f-725448eca480",
   "metadata": {},
   "outputs": [
    {
     "data": {
      "image/png": "[encoded data removed]",
      "text/latex": [
       "$\\displaystyle \\left[\\begin{matrix}\\left[\\begin{matrix}0 & 0\\\\0 & 0\\end{matrix}\\right] & \\left[\\begin{matrix}0 & 0\\\\0 & 0\\end{matrix}\\right]\\\\\\left[\\begin{matrix}0 & 0\\\\0 & 0\\end{matrix}\\right] & \\left[\\begin{matrix}0 & 0\\\\0 & 0\\end{matrix}\\right]\\end{matrix}\\right]$"
      ],
      "text/plain": [
       "⎡⎡0  0⎤  ⎡0  0⎤⎤\n",
       "⎢⎢    ⎥  ⎢    ⎥⎥\n",
       "⎢⎣0  0⎦  ⎣0  0⎦⎥\n",
       "⎢              ⎥\n",
       "⎢⎡0  0⎤  ⎡0  0⎤⎥\n",
       "⎢⎢    ⎥  ⎢    ⎥⎥\n",
       "⎣⎣0  0⎦  ⎣0  0⎦⎦"
      ]
     },
     "execution_count": 29,
     "metadata": {},
     "output_type": "execute_result"
    }
   ],
   "source": [
    "# Calculating Riemann Curvature Tensor from Christoffel Symbols\n",
    "rm1 = RiemannCurvatureTensor.from_christoffels(ch)\n",
    "sympy.simplify(rm1.tensor())"
   ]
  },
  {
   "cell_type": "code",
   "execution_count": 30,
   "id": "6db0b5d3-aad1-4cef-b8e7-7c64521fed90",
   "metadata": {},
   "outputs": [
    {
     "data": {
      "image/png": "[encoded data removed]",
      "text/latex": [
       "$\\displaystyle \\left[\\begin{matrix}\\left[\\begin{matrix}0 & 0\\\\0 & 0\\end{matrix}\\right] & \\left[\\begin{matrix}0 & 0\\\\0 & 0\\end{matrix}\\right]\\\\\\left[\\begin{matrix}0 & 0\\\\0 & 0\\end{matrix}\\right] & \\left[\\begin{matrix}0 & 0\\\\0 & 0\\end{matrix}\\right]\\end{matrix}\\right]$"
      ],
      "text/plain": [
       "⎡⎡0  0⎤  ⎡0  0⎤⎤\n",
       "⎢⎢    ⎥  ⎢    ⎥⎥\n",
       "⎢⎣0  0⎦  ⎣0  0⎦⎥\n",
       "⎢              ⎥\n",
       "⎢⎡0  0⎤  ⎡0  0⎤⎥\n",
       "⎢⎢    ⎥  ⎢    ⎥⎥\n",
       "⎣⎣0  0⎦  ⎣0  0⎦⎦"
      ]
     },
     "execution_count": 30,
     "metadata": {},
     "output_type": "execute_result"
    }
   ],
   "source": [
    "# Calculating Riemann Curvature Tensor from Metric Tensor\n",
    "rm2 = RiemannCurvatureTensor.from_metric(m_obj)\n",
    "sympy.simplify(rm2.tensor())"
   ]
  },
  {
   "cell_type": "code",
   "execution_count": 31,
   "id": "ef432f90-bdb9-4f2b-90a3-8faaf7e72bec",
   "metadata": {},
   "outputs": [
    {
     "data": {
      "image/png": "[encoded data removed]",
      "text/latex": [
       "$\\displaystyle \\left[\\begin{matrix}0 & 0\\\\0 & 0\\end{matrix}\\right]$"
      ],
      "text/plain": [
       "⎡0  0⎤\n",
       "⎢    ⎥\n",
       "⎣0  0⎦"
      ]
     },
     "execution_count": 31,
     "metadata": {},
     "output_type": "execute_result"
    }
   ],
   "source": [
    "# Calculating the Ricci Tensor (with both indices covariant)\n",
    "Ric = RicciTensor.from_metric(m_obj)\n",
    "sympy.simplify(Ric.tensor())"
   ]
  },
  {
   "cell_type": "code",
   "execution_count": 32,
   "id": "e8aaeac4-1575-400d-82a3-64cd74dc7d93",
   "metadata": {},
   "outputs": [
    {
     "data": {
      "image/png": "[encoded data removed]",
      "text/latex": [
       "$\\displaystyle 0$"
      ],
      "text/plain": [
       "0"
      ]
     },
     "execution_count": 32,
     "metadata": {},
     "output_type": "execute_result"
    }
   ],
   "source": [
    "# Calculating the Ricci Scalar (Scalar Curvature) from the Ricci Tensor\n",
    "R = RicciScalar.from_riccitensor(Ric)\n",
    "R.simplify()\n",
    "R.expr"
   ]
  },
  {
   "cell_type": "code",
   "execution_count": null,
   "id": "813cd29e-1dcc-4ddf-bf24-065c9dabfdd1",
   "metadata": {},
   "outputs": [],
   "source": []
  }
 ],
 "metadata": {
  "kernelspec": {
   "display_name": "Python 3 (ipykernel)",
   "language": "python",
   "name": "python3"
  },
  "language_info": {
   "codemirror_mode": {
    "name": "ipython",
    "version": 3
   },
   "file_extension": ".py",
   "mimetype": "text/x-python",
   "name": "python",
   "nbconvert_exporter": "python",
   "pygments_lexer": "ipython3",
   "version": "3.10.6"
  }
 },
 "nbformat": 4,
 "nbformat_minor": 5
}
