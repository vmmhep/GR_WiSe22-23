{
 "cells": [
  {
   "cell_type": "code",
   "execution_count": 10,
   "id": "18549060-e594-4d1a-8a1e-a729a263f8a9",
   "metadata": {},
   "outputs": [],
   "source": [
    "from sympy import *"
   ]
  },
  {
   "cell_type": "code",
   "execution_count": 11,
   "id": "bcabb671-cd15-4545-8374-352949c79835",
   "metadata": {
    "tags": []
   },
   "outputs": [],
   "source": [
    "t=var(\"t\") #time\n",
    "r=var(\"r\") #r\n",
    "v=var(\"theta\") #azimuthalwinkel\n",
    "p=var(\"phi\") #phi winkel\n",
    "vector=[t,r,v,p]\n",
    "f=Function(\"f\")(r)"
   ]
  },
  {
   "cell_type": "code",
   "execution_count": 12,
   "id": "33ea0c57-553f-450d-9cb6-6e4602dd2e95",
   "metadata": {},
   "outputs": [
    {
     "data": {
      "image/png": "[encoded data removed]",
      "text/latex": [
       "$\\displaystyle \\left[\\begin{matrix}- f{\\left(r \\right)} & 0 & 0 & 0\\\\0 & \\frac{1}{f{\\left(r \\right)}} & 0 & 0\\\\0 & 0 & r^{2} & 0\\\\0 & 0 & 0 & r^{2} \\sin^{2}{\\left(\\theta \\right)}\\end{matrix}\\right]$"
      ],
      "text/plain": [
       "⎡-f(r)   0    0       0     ⎤\n",
       "⎢                           ⎥\n",
       "⎢        1                  ⎥\n",
       "⎢  0    ────  0       0     ⎥\n",
       "⎢       f(r)                ⎥\n",
       "⎢                           ⎥\n",
       "⎢              2            ⎥\n",
       "⎢  0     0    r       0     ⎥\n",
       "⎢                           ⎥\n",
       "⎢                  2    2   ⎥\n",
       "⎣  0     0    0   r ⋅sin (θ)⎦"
      ]
     },
     "execution_count": 12,
     "metadata": {},
     "output_type": "execute_result"
    }
   ],
   "source": [
    "g = Matrix([[-f,0,0,0],[0,f**-1,0,0],[0,0,r**2,0],[0,0,0,r**2*sin(v)**2]])\n",
    "init_printing()\n",
    "g"
   ]
  },
  {
   "cell_type": "code",
   "execution_count": 13,
   "id": "a37f9650-6982-4de0-a01d-33c4ad3cce46",
   "metadata": {},
   "outputs": [
    {
     "data": {
      "image/png": "[encoded data removed]",
      "text/latex": [
       "$\\displaystyle \\left[\\begin{matrix}- \\frac{1}{f{\\left(r \\right)}} & 0 & 0 & 0\\\\0 & f{\\left(r \\right)} & 0 & 0\\\\0 & 0 & \\frac{1}{r^{2}} & 0\\\\0 & 0 & 0 & \\frac{1}{r^{2} \\sin^{2}{\\left(\\theta \\right)}}\\end{matrix}\\right]$"
      ],
      "text/plain": [
       "⎡-1                        ⎤\n",
       "⎢────   0    0       0     ⎥\n",
       "⎢f(r)                      ⎥\n",
       "⎢                          ⎥\n",
       "⎢ 0    f(r)  0       0     ⎥\n",
       "⎢                          ⎥\n",
       "⎢            1             ⎥\n",
       "⎢ 0     0    ──      0     ⎥\n",
       "⎢             2            ⎥\n",
       "⎢            r             ⎥\n",
       "⎢                          ⎥\n",
       "⎢                    1     ⎥\n",
       "⎢ 0     0    0   ──────────⎥\n",
       "⎢                 2    2   ⎥\n",
       "⎣                r ⋅sin (θ)⎦"
      ]
     },
     "execution_count": 13,
     "metadata": {},
     "output_type": "execute_result"
    }
   ],
   "source": [
    "ginv = g.inv()\n",
    "ginv"
   ]
  },
  {
   "cell_type": "code",
   "execution_count": 14,
   "id": "7c8c25e7-0a53-4b4e-9468-1c148da95f6d",
   "metadata": {},
   "outputs": [],
   "source": [
    "def Chris(rho) :\n",
    "    result = Matrix([[0,0,0,0],[0,0,0,0],[0,0,0,0],[0,0,0,0]])\n",
    "    for u in range (4):\n",
    "        for l in range(4):\n",
    "            for k in range(4):\n",
    "                result[u,l]+=0.5*ginv[k,rho]*(diff(g[k,l],vector[u])+diff(g[u,k],vector[l])-diff(g[u,l],vector[k]))\n",
    "    simplify(result)\n",
    "    return result"
   ]
  },
  {
   "cell_type": "code",
   "execution_count": 15,
   "id": "3c9e7a13-dcbe-4f31-ad48-3f6e3e26c5d3",
   "metadata": {},
   "outputs": [
    {
     "data": {
      "image/png": "[encoded data removed]",
      "text/latex": [
       "$\\displaystyle \\left[\\begin{matrix}0 & \\frac{0.5 \\frac{d}{d r} f{\\left(r \\right)}}{f{\\left(r \\right)}} & 0 & 0\\\\\\frac{0.5 \\frac{d}{d r} f{\\left(r \\right)}}{f{\\left(r \\right)}} & 0 & 0 & 0\\\\0 & 0 & 0 & 0\\\\0 & 0 & 0 & 0\\end{matrix}\\right]$"
      ],
      "text/plain": [
       "⎡                  d             ⎤\n",
       "⎢              0.5⋅──(f(r))      ⎥\n",
       "⎢                  dr            ⎥\n",
       "⎢     0        ────────────  0  0⎥\n",
       "⎢                  f(r)          ⎥\n",
       "⎢                                ⎥\n",
       "⎢    d                           ⎥\n",
       "⎢0.5⋅──(f(r))                    ⎥\n",
       "⎢    dr                          ⎥\n",
       "⎢────────────       0        0  0⎥\n",
       "⎢    f(r)                        ⎥\n",
       "⎢                                ⎥\n",
       "⎢     0             0        0  0⎥\n",
       "⎢                                ⎥\n",
       "⎣     0             0        0  0⎦"
      ]
     },
     "execution_count": 15,
     "metadata": {},
     "output_type": "execute_result"
    }
   ],
   "source": [
    "simplify(Chris(0)) #This is the \\Lambda^{t}_{\\mu \\nu} matrix where rows and columns are measured by \\mu and \\nu."
   ]
  },
  {
   "cell_type": "code",
   "execution_count": 16,
   "id": "85874b2a-3336-4b1c-961c-63091e641d0d",
   "metadata": {},
   "outputs": [
    {
     "data": {
      "image/png": "[encoded data removed]",
      "text/latex": [
       "$\\displaystyle \\left[\\begin{matrix}0.5 f{\\left(r \\right)} \\frac{d}{d r} f{\\left(r \\right)} & 0 & 0 & 0\\\\0 & - \\frac{0.5 \\frac{d}{d r} f{\\left(r \\right)}}{f{\\left(r \\right)}} & 0 & 0\\\\0 & 0 & - 1.0 r f{\\left(r \\right)} & 0\\\\0 & 0 & 0 & - 1.0 r f{\\left(r \\right)} \\sin^{2}{\\left(\\theta \\right)}\\end{matrix}\\right]$"
      ],
      "text/plain": [
       "⎡         d                                                         ⎤\n",
       "⎢0.5⋅f(r)⋅──(f(r))        0              0                0         ⎥\n",
       "⎢         dr                                                        ⎥\n",
       "⎢                                                                   ⎥\n",
       "⎢                        d                                          ⎥\n",
       "⎢                   -0.5⋅──(f(r))                                   ⎥\n",
       "⎢                        dr                                         ⎥\n",
       "⎢        0          ──────────────       0                0         ⎥\n",
       "⎢                        f(r)                                       ⎥\n",
       "⎢                                                                   ⎥\n",
       "⎢        0                0         -1.0⋅r⋅f(r)           0         ⎥\n",
       "⎢                                                                   ⎥\n",
       "⎢                                                               2   ⎥\n",
       "⎣        0                0              0       -1.0⋅r⋅f(r)⋅sin (θ)⎦"
      ]
     },
     "execution_count": 16,
     "metadata": {},
     "output_type": "execute_result"
    }
   ],
   "source": [
    "simplify(Chris(1)) #This is the \\Lambda^{r}_{\\mu \\nu} matrix where rows and columns are measured by \\mu and \\nu."
   ]
  },
  {
   "cell_type": "code",
   "execution_count": 17,
   "id": "377ced24-7493-424e-b898-fe4073a19de2",
   "metadata": {},
   "outputs": [
    {
     "data": {
      "image/png": "[encoded data removed]",
      "text/latex": [
       "$\\displaystyle \\left[\\begin{matrix}0 & 0 & 0 & 0\\\\0 & 0 & \\frac{1.0}{r} & 0\\\\0 & \\frac{1.0}{r} & 0 & 0\\\\0 & 0 & 0 & - 0.5 \\sin{\\left(2 \\theta \\right)}\\end{matrix}\\right]$"
      ],
      "text/plain": [
       "⎡0   0    0         0      ⎤\n",
       "⎢                          ⎥\n",
       "⎢        1.0               ⎥\n",
       "⎢0   0   ───        0      ⎥\n",
       "⎢         r                ⎥\n",
       "⎢                          ⎥\n",
       "⎢   1.0                    ⎥\n",
       "⎢0  ───   0         0      ⎥\n",
       "⎢    r                     ⎥\n",
       "⎢                          ⎥\n",
       "⎣0   0    0   -0.5⋅sin(2⋅θ)⎦"
      ]
     },
     "execution_count": 17,
     "metadata": {},
     "output_type": "execute_result"
    }
   ],
   "source": [
    "simplify(Chris(2)) #This is the \\Lambda^{\\theta}_{\\mu \\nu} matrix where rows and columns are measured by \\mu and \\nu."
   ]
  },
  {
   "cell_type": "code",
   "execution_count": 18,
   "id": "af9602a3-dfb3-44f2-84fa-a286c9032582",
   "metadata": {},
   "outputs": [
    {
     "data": {
      "image/png": "[encoded data removed]",
      "text/latex": [
       "$\\displaystyle \\left[\\begin{matrix}0 & 0 & 0 & 0\\\\0 & 0 & 0 & \\frac{1.0}{r}\\\\0 & 0 & 0 & \\frac{1.0}{\\tan{\\left(\\theta \\right)}}\\\\0 & \\frac{1.0}{r} & \\frac{1.0}{\\tan{\\left(\\theta \\right)}} & 0\\end{matrix}\\right]$"
      ],
      "text/plain": [
       "⎡0   0     0       0   ⎤\n",
       "⎢                      ⎥\n",
       "⎢                 1.0  ⎥\n",
       "⎢0   0     0      ───  ⎥\n",
       "⎢                  r   ⎥\n",
       "⎢                      ⎥\n",
       "⎢                 1.0  ⎥\n",
       "⎢0   0     0     ──────⎥\n",
       "⎢                tan(θ)⎥\n",
       "⎢                      ⎥\n",
       "⎢   1.0   1.0          ⎥\n",
       "⎢0  ───  ──────    0   ⎥\n",
       "⎣    r   tan(θ)        ⎦"
      ]
     },
     "execution_count": 18,
     "metadata": {},
     "output_type": "execute_result"
    }
   ],
   "source": [
    "simplify(Chris(3)) #This is the \\Lambda^{\\phi}_{\\mu \\nu} matrix where rows and columns are measured by \\mu and \\nu."
   ]
  },
  {
   "cell_type": "code",
   "execution_count": null,
   "id": "e7517717-2da5-4101-87b1-3ce731d32806",
   "metadata": {},
   "outputs": [],
   "source": []
  },
  {
   "cell_type": "code",
   "execution_count": null,
   "id": "a844df91-015a-4e73-9797-e7dc9aee05d6",
   "metadata": {},
   "outputs": [],
   "source": []
  }
 ],
 "metadata": {
  "kernelspec": {
   "display_name": "Python 3 (ipykernel)",
   "language": "python",
   "name": "python3"
  },
  "language_info": {
   "codemirror_mode": {
    "name": "ipython",
    "version": 3
   },
   "file_extension": ".py",
   "mimetype": "text/x-python",
   "name": "python",
   "nbconvert_exporter": "python",
   "pygments_lexer": "ipython3",
   "version": "3.10.6"
  }
 },
 "nbformat": 4,
 "nbformat_minor": 5
}
