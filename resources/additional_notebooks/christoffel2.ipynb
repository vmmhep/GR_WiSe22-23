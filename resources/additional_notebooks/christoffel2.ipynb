{
 "cells": [
  {
   "cell_type": "code",
   "execution_count": 31,
   "id": "575327c4-12af-47fb-8358-8da20e1ebef8",
   "metadata": {},
   "outputs": [],
   "source": [
    "from sympy import *"
   ]
  },
  {
   "cell_type": "code",
   "execution_count": 32,
   "id": "e5c0b570-418b-42e2-aa54-7f70b614cb5c",
   "metadata": {
    "tags": []
   },
   "outputs": [],
   "source": [
    "t=var(\"t\") #time\n",
    "x=var(\"x\") #x\n",
    "y=var(\"y\") #y\n",
    "z=var(\"z\") #z\n",
    "w=var(\"omega\") #constant angular velocity \\omega\n",
    "vector=[t,x,y,z]\n"
   ]
  },
  {
   "cell_type": "code",
   "execution_count": 33,
   "id": "549c327f-112a-4684-a39b-20a33d1e1f71",
   "metadata": {},
   "outputs": [
    {
     "data": {
      "image/png": "[encoded data removed]",
      "text/latex": [
       "$\\displaystyle \\left[\\begin{matrix}\\omega^{2} \\left(x^{2} + y^{2}\\right) - 1 & - \\omega y & \\omega x & 0\\\\- \\omega y & 1 & 0 & 0\\\\\\omega x & 0 & 1 & 0\\\\0 & 0 & 0 & 1\\end{matrix}\\right]$"
      ],
      "text/plain": [
       "⎡ 2 ⎛ 2    2⎞                  ⎤\n",
       "⎢ω ⋅⎝x  + y ⎠ - 1  -ω⋅y  ω⋅x  0⎥\n",
       "⎢                              ⎥\n",
       "⎢      -ω⋅y         1     0   0⎥\n",
       "⎢                              ⎥\n",
       "⎢      ω⋅x          0     1   0⎥\n",
       "⎢                              ⎥\n",
       "⎣       0           0     0   1⎦"
      ]
     },
     "execution_count": 33,
     "metadata": {},
     "output_type": "execute_result"
    }
   ],
   "source": [
    "g = Matrix([[-(1-(x**2 + y**2)*w**2),-w*y,+w*x,0],[-w*y,1,0,0],[w*x,0,1,0],[0,0,0,1]])\n",
    "init_printing()\n",
    "g"
   ]
  },
  {
   "cell_type": "code",
   "execution_count": 34,
   "id": "c1febc76-188d-4100-b731-0aeafe1af282",
   "metadata": {},
   "outputs": [
    {
     "data": {
      "image/png": "[encoded data removed]",
      "text/latex": [
       "$\\displaystyle \\left[\\begin{matrix}-1 & - \\omega y & \\omega x & 0\\\\- \\omega y & - \\omega^{2} y^{2} + 1 & \\omega^{2} x y & 0\\\\\\omega x & \\omega^{2} x y & - \\omega^{2} x^{2} + 1 & 0\\\\0 & 0 & 0 & 1\\end{matrix}\\right]$"
      ],
      "text/plain": [
       "⎡ -1      -ω⋅y          ω⋅x      0⎤\n",
       "⎢                                 ⎥\n",
       "⎢         2  2         2          ⎥\n",
       "⎢-ω⋅y  - ω ⋅y  + 1    ω ⋅x⋅y     0⎥\n",
       "⎢                                 ⎥\n",
       "⎢         2            2  2       ⎥\n",
       "⎢ω⋅x     ω ⋅x⋅y     - ω ⋅x  + 1  0⎥\n",
       "⎢                                 ⎥\n",
       "⎣ 0         0            0       1⎦"
      ]
     },
     "execution_count": 34,
     "metadata": {},
     "output_type": "execute_result"
    }
   ],
   "source": [
    "ginv = g.inv()\n",
    "ginv"
   ]
  },
  {
   "cell_type": "code",
   "execution_count": 35,
   "id": "ee12d576-bd18-4c4f-8573-3589d729bf23",
   "metadata": {},
   "outputs": [],
   "source": [
    "def Chris(rho) :\n",
    "    result = Matrix([[0,0,0,0],[0,0,0,0],[0,0,0,0],[0,0,0,0]])\n",
    "    for u in range (4):\n",
    "        for l in range(4):\n",
    "            for k in range(4):\n",
    "                result[u,l]+=0.5*ginv[k,rho]*(diff(g[k,l],vector[u])+diff(g[u,k],vector[l])-diff(g[u,l],vector[k]))\n",
    "    simplify(result)\n",
    "    return result"
   ]
  },
  {
   "cell_type": "code",
   "execution_count": 36,
   "id": "5f7e84aa-0616-40ce-a55c-a10ed4b6c6ce",
   "metadata": {},
   "outputs": [
    {
     "data": {
      "image/png": "[encoded data removed]",
      "text/latex": [
       "$\\displaystyle \\left[\\begin{matrix}0 & 0 & 0 & 0\\\\0 & 0 & 0 & 0\\\\0 & 0 & 0 & 0\\\\0 & 0 & 0 & 0\\end{matrix}\\right]$"
      ],
      "text/plain": [
       "⎡0  0  0  0⎤\n",
       "⎢          ⎥\n",
       "⎢0  0  0  0⎥\n",
       "⎢          ⎥\n",
       "⎢0  0  0  0⎥\n",
       "⎢          ⎥\n",
       "⎣0  0  0  0⎦"
      ]
     },
     "execution_count": 36,
     "metadata": {},
     "output_type": "execute_result"
    }
   ],
   "source": [
    "simplify(Chris(0)) #This is the \\Lambda^{t}_{\\mu \\nu} matrix where rows and columns are measured by \\mu and \\nu."
   ]
  },
  {
   "cell_type": "code",
   "execution_count": 37,
   "id": "fa98dc55-2e06-4993-a841-a998bb137d7e",
   "metadata": {
    "tags": []
   },
   "outputs": [
    {
     "data": {
      "image/png": "[encoded data removed]",
      "text/latex": [
       "$\\displaystyle \\left[\\begin{matrix}- \\omega^{2} x & 0 & - \\omega & 0\\\\0 & 0 & 0 & 0\\\\- \\omega & 0 & 0 & 0\\\\0 & 0 & 0 & 0\\end{matrix}\\right]$"
      ],
      "text/plain": [
       "⎡  2            ⎤\n",
       "⎢-ω ⋅x  0  -ω  0⎥\n",
       "⎢               ⎥\n",
       "⎢  0    0  0   0⎥\n",
       "⎢               ⎥\n",
       "⎢ -ω    0  0   0⎥\n",
       "⎢               ⎥\n",
       "⎣  0    0  0   0⎦"
      ]
     },
     "execution_count": 37,
     "metadata": {},
     "output_type": "execute_result"
    }
   ],
   "source": [
    "simplify(Chris(1)) #This is the \\Lambda^{x}_{\\mu \\nu} matrix where rows and columns are measured by \\mu and \\nu."
   ]
  },
  {
   "cell_type": "code",
   "execution_count": 38,
   "id": "24fd6497-50c7-4612-97d2-f19c33b398f8",
   "metadata": {},
   "outputs": [
    {
     "data": {
      "image/png": "[encoded data removed]",
      "text/latex": [
       "$\\displaystyle \\left[\\begin{matrix}- \\omega^{2} y & 1.0 \\omega & 0 & 0\\\\1.0 \\omega & 0 & 0 & 0\\\\0 & 0 & 0 & 0\\\\0 & 0 & 0 & 0\\end{matrix}\\right]$"
      ],
      "text/plain": [
       "⎡  2               ⎤\n",
       "⎢-ω ⋅y  1.0⋅ω  0  0⎥\n",
       "⎢                  ⎥\n",
       "⎢1.0⋅ω    0    0  0⎥\n",
       "⎢                  ⎥\n",
       "⎢  0      0    0  0⎥\n",
       "⎢                  ⎥\n",
       "⎣  0      0    0  0⎦"
      ]
     },
     "execution_count": 38,
     "metadata": {},
     "output_type": "execute_result"
    }
   ],
   "source": [
    "simplify(Chris(2)) #This is the \\Lambda^{y}_{\\mu \\nu} matrix where rows and columns are measured by \\mu and \\nu."
   ]
  },
  {
   "cell_type": "code",
   "execution_count": 39,
   "id": "f971ef89-0668-482b-bce4-e72f96a50662",
   "metadata": {},
   "outputs": [
    {
     "data": {
      "image/png": "[encoded data removed]",
      "text/latex": [
       "$\\displaystyle \\left[\\begin{matrix}0 & 0 & 0 & 0\\\\0 & 0 & 0 & 0\\\\0 & 0 & 0 & 0\\\\0 & 0 & 0 & 0\\end{matrix}\\right]$"
      ],
      "text/plain": [
       "⎡0  0  0  0⎤\n",
       "⎢          ⎥\n",
       "⎢0  0  0  0⎥\n",
       "⎢          ⎥\n",
       "⎢0  0  0  0⎥\n",
       "⎢          ⎥\n",
       "⎣0  0  0  0⎦"
      ]
     },
     "execution_count": 39,
     "metadata": {},
     "output_type": "execute_result"
    }
   ],
   "source": [
    "simplify(Chris(3)) #This is the \\Lambda^{z}_{\\mu \\nu} matrix where rows and columns are measured by \\mu and \\nu."
   ]
  },
  {
   "cell_type": "code",
   "execution_count": null,
   "id": "89b9c24b-c324-4170-8d62-7fdf1429e344",
   "metadata": {},
   "outputs": [],
   "source": []
  },
  {
   "cell_type": "code",
   "execution_count": null,
   "id": "b1739240-4ae5-444d-b0da-b41ab58dc448",
   "metadata": {},
   "outputs": [],
   "source": []
  }
 ],
 "metadata": {
  "kernelspec": {
   "display_name": "Python 3 (ipykernel)",
   "language": "python",
   "name": "python3"
  },
  "language_info": {
   "codemirror_mode": {
    "name": "ipython",
    "version": 3
   },
   "file_extension": ".py",
   "mimetype": "text/x-python",
   "name": "python",
   "nbconvert_exporter": "python",
   "pygments_lexer": "ipython3",
   "version": "3.10.6"
  }
 },
 "nbformat": 4,
 "nbformat_minor": 5
}
