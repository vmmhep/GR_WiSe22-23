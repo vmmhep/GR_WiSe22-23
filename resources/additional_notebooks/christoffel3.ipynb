{
 "cells": [
  {
   "cell_type": "code",
   "execution_count": null,
   "id": "e2bdfe7f-b3d3-43b3-8866-ff184d64d751",
   "metadata": {},
   "outputs": [],
   "source": []
  },
  {
   "cell_type": "code",
   "execution_count": 11,
   "id": "2fdcde47-18e4-4257-8425-378b6a668047",
   "metadata": {},
   "outputs": [],
   "source": [
    "from sympy import *"
   ]
  },
  {
   "cell_type": "code",
   "execution_count": 12,
   "id": "bc9194ca-1c9b-44ce-a3d7-409818cb0222",
   "metadata": {
    "tags": []
   },
   "outputs": [],
   "source": [
    "t=var(\"t\") #time\n",
    "x=var(\"x\") #x\n",
    "vector=[t,x]\n"
   ]
  },
  {
   "cell_type": "code",
   "execution_count": 13,
   "id": "3256572a-e00f-4173-a4e3-cc32bb29d3d5",
   "metadata": {},
   "outputs": [
    {
     "data": {
      "image/png": "[encoded data removed]",
      "text/latex": [
       "$\\displaystyle \\left[\\begin{matrix}- \\frac{1}{t^{2}} & 0\\\\0 & \\frac{1}{t^{2}}\\end{matrix}\\right]$"
      ],
      "text/plain": [
       "⎡-1     ⎤\n",
       "⎢───  0 ⎥\n",
       "⎢  2    ⎥\n",
       "⎢ t     ⎥\n",
       "⎢       ⎥\n",
       "⎢     1 ⎥\n",
       "⎢ 0   ──⎥\n",
       "⎢      2⎥\n",
       "⎣     t ⎦"
      ]
     },
     "execution_count": 13,
     "metadata": {},
     "output_type": "execute_result"
    }
   ],
   "source": [
    "g = Matrix([[-1/t**2,0],[0,1/t**2]])\n",
    "init_printing()\n",
    "g"
   ]
  },
  {
   "cell_type": "code",
   "execution_count": 14,
   "id": "c46b0f49-0e75-4949-bb96-76b81b147786",
   "metadata": {},
   "outputs": [
    {
     "data": {
      "image/png": "[encoded data removed]",
      "text/latex": [
       "$\\displaystyle \\left[\\begin{matrix}- t^{2} & 0\\\\0 & t^{2}\\end{matrix}\\right]$"
      ],
      "text/plain": [
       "⎡  2    ⎤\n",
       "⎢-t   0 ⎥\n",
       "⎢       ⎥\n",
       "⎢      2⎥\n",
       "⎣ 0   t ⎦"
      ]
     },
     "execution_count": 14,
     "metadata": {},
     "output_type": "execute_result"
    }
   ],
   "source": [
    "ginv = g.inv()\n",
    "ginv"
   ]
  },
  {
   "cell_type": "code",
   "execution_count": 15,
   "id": "d1df496b-fd43-4cc8-905c-9a18caf70187",
   "metadata": {},
   "outputs": [],
   "source": [
    "def Chris(rho) :\n",
    "    result = Matrix([[0,0],[0,0]])\n",
    "    for u in range (2):\n",
    "        for l in range(2):\n",
    "            for k in range(2):\n",
    "                result[u,l]+=0.5*ginv[k,rho]*(diff(g[k,l],vector[u])+diff(g[u,k],vector[l])-diff(g[u,l],vector[k]))\n",
    "    simplify(result)\n",
    "    return result"
   ]
  },
  {
   "cell_type": "code",
   "execution_count": 16,
   "id": "7d9404f3-1188-4862-8ce6-449a9a34f9d9",
   "metadata": {},
   "outputs": [
    {
     "data": {
      "image/png": "[encoded data removed]",
      "text/latex": [
       "$\\displaystyle \\left[\\begin{matrix}- \\frac{1.0}{t} & 0\\\\0 & - \\frac{1.0}{t}\\end{matrix}\\right]$"
      ],
      "text/plain": [
       "⎡-1.0        ⎤\n",
       "⎢─────    0  ⎥\n",
       "⎢  t         ⎥\n",
       "⎢            ⎥\n",
       "⎢       -1.0 ⎥\n",
       "⎢  0    ─────⎥\n",
       "⎣         t  ⎦"
      ]
     },
     "execution_count": 16,
     "metadata": {},
     "output_type": "execute_result"
    }
   ],
   "source": [
    "simplify(Chris(0)) #This is the \\Lambda^{t}_{\\mu \\nu} matrix where rows and columns are measured by \\mu and \\nu."
   ]
  },
  {
   "cell_type": "code",
   "execution_count": 17,
   "id": "adec10b2-bf30-41b1-b812-640d76e6cb68",
   "metadata": {
    "tags": []
   },
   "outputs": [
    {
     "data": {
      "image/png": "[encoded data removed]",
      "text/latex": [
       "$\\displaystyle \\left[\\begin{matrix}0 & - \\frac{1.0}{t}\\\\- \\frac{1.0}{t} & 0\\end{matrix}\\right]$"
      ],
      "text/plain": [
       "⎡       -1.0 ⎤\n",
       "⎢  0    ─────⎥\n",
       "⎢         t  ⎥\n",
       "⎢            ⎥\n",
       "⎢-1.0        ⎥\n",
       "⎢─────    0  ⎥\n",
       "⎣  t         ⎦"
      ]
     },
     "execution_count": 17,
     "metadata": {},
     "output_type": "execute_result"
    }
   ],
   "source": [
    "simplify(Chris(1)) #This is the \\Lambda^{x}_{\\mu \\nu} matrix where rows and columns are measured by \\mu and \\nu."
   ]
  },
  {
   "cell_type": "code",
   "execution_count": null,
   "id": "d6c3a812-5a8a-4153-bc5f-407266dc2909",
   "metadata": {},
   "outputs": [],
   "source": []
  },
  {
   "cell_type": "code",
   "execution_count": null,
   "id": "1b36527f-e6aa-4aac-b38d-639e5fbda41b",
   "metadata": {},
   "outputs": [],
   "source": []
  }
 ],
 "metadata": {
  "kernelspec": {
   "display_name": "Python 3 (ipykernel)",
   "language": "python",
   "name": "python3"
  },
  "language_info": {
   "codemirror_mode": {
    "name": "ipython",
    "version": 3
   },
   "file_extension": ".py",
   "mimetype": "text/x-python",
   "name": "python",
   "nbconvert_exporter": "python",
   "pygments_lexer": "ipython3",
   "version": "3.10.6"
  }
 },
 "nbformat": 4,
 "nbformat_minor": 5
}
