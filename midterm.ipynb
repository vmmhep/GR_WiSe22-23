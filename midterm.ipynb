{
 "cells": [
  {
   "attachments": {},
   "cell_type": "markdown",
   "metadata": {},
   "source": [
    "<div style=\"text-align: left\"> \n",
    "PHYS736 Introduction to General Relativity <br>\n",
    "Examiners: Viraf M. Mehta and Georges Obied \n",
    "<div style=\"text-align: right\"> \n",
    "Birzeit University <br>\n",
    "December 2022\n",
    "</div></div>"
   ]
  },
  {
   "attachments": {},
   "cell_type": "markdown",
   "metadata": {},
   "source": [
    "#### **Candidates may answer as many parts as they wish from SECTION A, but the total mark for this section will be capped at 20.**\n",
    "\n",
    "#### **Candidates should also answer TWO questions from SECTION B. No credit will be given for answering a further question from this section.  The approximate mark for each part of a question is indicated in square brackets.**\n",
    "\n",
    "#### **The total mark for the exam is 50.**"
   ]
  },
  {
   "attachments": {},
   "cell_type": "markdown",
   "metadata": {},
   "source": [
    "Name:\n",
    "<br><br>\n",
    "Student ID:"
   ]
  },
  {
   "attachments": {},
   "cell_type": "markdown",
   "metadata": {},
   "source": [
    "----\n",
    "# Midterm Exam\n",
    "----"
   ]
  },
  {
   "attachments": {},
   "cell_type": "markdown",
   "metadata": {},
   "source": [
    "### **Section A**\n",
    "----"
   ]
  },
  {
   "attachments": {},
   "cell_type": "markdown",
   "metadata": {},
   "source": [
    "#### Problem 1 [Simultaneity in Different Frames]"
   ]
  },
  {
   "attachments": {},
   "cell_type": "markdown",
   "metadata": {},
   "source": [
    "Consider three events $A$, $B$ and $C$. Your task is to draw a spacetime diagram, on the same set of axes, showing three frames where the ordering of the events is $ABC$ in one, $CBA$ in the second and $ACB$ in the third. \n",
    "\n",
    "A set of axes is provided below for one of the frames (for example the one where the events happen in the order $ABC$). You can use the grid below as a guide to mark three events $A$, $B$ and $C$ and then draw two more sets of axes ($x't'$ and $x''t''$) where the events happen in the order $CBA$ and $ACB$.\n",
    "<div style=\"text-align: center\"> \n",
    "<img src=\"./resources/Simultaneity.png\" width=\"50%\" /><br>\n",
    "Figure 1.  Grid with axes for the frame $xt$. \n",
    "</div>\n",
    "<br>\n",
    "<div style=\"text-align: right\"> \n",
    "[5 marks]\n",
    "</div>"
   ]
  },
  {
   "attachments": {},
   "cell_type": "markdown",
   "metadata": {},
   "source": [
    "#### Problem 2 [Scalar vs Tensor]"
   ]
  },
  {
   "attachments": {},
   "cell_type": "markdown",
   "metadata": {},
   "source": [
    "Show that the determinant of the metric tensor\n",
    "\\begin{align}\n",
    "g \\equiv \\mathrm{det\\ }\\bigl(g_{\\mu\\nu}\\bigr)\n",
    "\\end{align}\n",
    "is **not** a scalar.\n",
    "<br><div style=\"text-align: right\"> \n",
    "[5 marks]\n",
    "</div>"
   ]
  },
  {
   "attachments": {},
   "cell_type": "markdown",
   "metadata": {},
   "source": [
    "#### Problem 3 [Lorentz Transformation]"
   ]
  },
  {
   "attachments": {},
   "cell_type": "markdown",
   "metadata": {},
   "source": [
    "If $\\Lambda^\\alpha_\\beta$ and $\\tilde{\\Lambda}^\\alpha_\\beta$ are two coordinate transformation matrices, show that the matrix\n",
    "\\begin{align}\n",
    "\\Lambda^\\alpha_\\gamma\\tilde{\\Lambda}^\\gamma_\\beta\n",
    "\\end{align}\n",
    "is also a coordinate transformation.\n",
    "<br><div style=\"text-align: right\"> \n",
    "[5 marks]\n",
    "</div>"
   ]
  },
  {
   "attachments": {},
   "cell_type": "markdown",
   "metadata": {},
   "source": [
    "#### Problem 4 [Symmetric and Antisymmetric Tensors]"
   ]
  },
  {
   "attachments": {},
   "cell_type": "markdown",
   "metadata": {},
   "source": [
    "Let $A_{\\mu\\nu}$ be an antisymmetric tensor so that $A_{\\mu\\nu} = - A_{\\nu\\mu}$ and let $S^{\\mu\\nu}$ be a symmetric tensor such that $S^{\\mu\\nu} = S^{\\nu\\mu}$.  Show that \n",
    "\\begin{align}\n",
    "A_{\\mu\\nu}S^{\\mu\\nu} = 0.\n",
    "\\end{align}\n",
    "For an arbitrary tensor, $V_{\\mu\\nu}$, establish the following identities:\n",
    "\\begin{align}\n",
    "V^{\\mu\\nu}A_{\\mu\\nu} &= \\frac 12 \\bigl(V^{\\mu\\nu}-V^{\\nu\\mu}\\bigr)A_{\\mu\\nu}\\\\[1.5em]\n",
    "V^{\\mu\\nu}S_{\\mu\\nu} &= \\frac 12 \\bigl(V^{\\mu\\nu}+V^{\\mu\\nu}\\bigr)S_{\\mu\\nu}\n",
    "\\end{align}\n",
    "<br><div style=\"text-align: right\"> \n",
    "[5 marks]\n",
    "</div>"
   ]
  },
  {
   "attachments": {},
   "cell_type": "markdown",
   "metadata": {},
   "source": [
    "#### Problem 5 [Rindler Space]"
   ]
  },
  {
   "attachments": {},
   "cell_type": "markdown",
   "metadata": {},
   "source": [
    "Show that the two-dimensional space with metric\n",
    "\\begin{align}\n",
    "ds^2 = dv^2 - v^2du^2\n",
    "\\end{align}\n",
    "is just the two-dimensional Minkowski space\n",
    "\\begin{align}\n",
    "ds^2 = -dt^2 + dx^2\n",
    "\\end{align}\n",
    "in disguise.  \n",
    "**Hint:** You must find the appropriate change of coordinates $x(u,v)$ and $t(u,v)$.\n",
    "<br><div style=\"text-align: right\"> \n",
    "[5 marks]\n",
    "</div>"
   ]
  },
  {
   "attachments": {},
   "cell_type": "markdown",
   "metadata": {},
   "source": [
    "#### Problem 6 [Symmetric Maxwell's Laws]"
   ]
  },
  {
   "attachments": {},
   "cell_type": "markdown",
   "metadata": {},
   "source": [
    "If we required an aesthetic symmetry in all physical laws, one could argue that Maxwell's equations should read\n",
    "\\begin{align}\n",
    "\\partial_\\mu F^{\\mu\\nu} &= \\mu_0 J^\\nu\\\\[1.5em]\n",
    "\\partial_\\mu \\tilde{F}^{\\mu\\nu} &= \\mu_0 K^\\nu.\n",
    "\\end{align}\n",
    "What would the physical implications of $\\mathbf{K}$ be?\n",
    "<br><div style=\"text-align: right\"> \n",
    "[5 marks]\n",
    "</div>"
   ]
  },
  {
   "attachments": {},
   "cell_type": "markdown",
   "metadata": {},
   "source": [
    "#### Problem 7 [Conformal Transformation]"
   ]
  },
  {
   "attachments": {},
   "cell_type": "markdown",
   "metadata": {},
   "source": [
    "Show that a conformal transformation of a metric, _i.e._ $g_{\\mu\\nu} \\rightarrow f\\bigl(x^\\alpha\\bigr)g_{\\mu\\nu}$, for an arbitrary function $f$, preserves all angles. \n",
    "\n",
    "Also show that all null curves remain null curves.\n",
    "\n",
    "\n",
    "**Hint:** Perhaps the definition of the dot product in Euclidean space would be useful for defining an angle here.\n",
    "<br><div style=\"text-align: right\"> \n",
    "[5 marks]\n",
    "</div>"
   ]
  },
  {
   "attachments": {},
   "cell_type": "markdown",
   "metadata": {},
   "source": [
    "#### Problem 8 [Bouncing Stick]\n"
   ]
  },
  {
   "attachments": {},
   "cell_type": "markdown",
   "metadata": {},
   "source": [
    "Consider a stick of proper length $L$ that falls horizontally and bounces off a rigid a surface. Assume all points of the stick touch the surface simultaneously in this frame which we call $S$. We want to consider the same bouncing stick in a different frame, called $S'$, that moves with respect to $S$ with a relativistic velocity $v$ in a direction along the length of the stick. Due to loss of simultaneity, different points of the stick will touch the surface at different times in frame $S'$. We have illustrated the initial and final configuration of the stick in frame $S'$ in snapshots 1 and 3 below. Draw what the stick would look like in snapshot 2 which is taken midway between snapshots 1 and 3. \n",
    "<div style=\"text-align: center\"> \n",
    "<img src=\"./resources/BouncingStick.png\" width=\"90%\" /><br>\n",
    "Figure 2.  Snapshots of the bouncing stick in frame $S'$.\n",
    "</div>\n",
    "\n",
    "<br><div style=\"text-align: right\"> \n",
    "[5 marks]\n",
    "</div>"
   ]
  },
  {
   "attachments": {},
   "cell_type": "markdown",
   "metadata": {},
   "source": [
    "#### Problem 9 [Photon Travelling Diagonally]\n"
   ]
  },
  {
   "attachments": {},
   "cell_type": "markdown",
   "metadata": {},
   "source": [
    "Consider a photon of energy $E$ traveling in the $+y$ direction in frame $S$. In a different frame, called $S'$, that is boosted with respect to $S$ along the $x$-axis, the momentum of the same photon has components along the $y$ and $x$ directions. Find the velocity at which frame $S'$ should be traveling so that the photon trajectory makes a $45^\\circ$ angle with the $x$-axis.\n",
    "\n",
    "<br><div style=\"text-align: right\"> \n",
    "[5 marks]\n",
    "</div>"
   ]
  },
  {
   "attachments": {},
   "cell_type": "markdown",
   "metadata": {},
   "source": [
    "#### Problem 9 [Two Masses with a Constant Tension String]"
   ]
  },
  {
   "attachments": {},
   "cell_type": "markdown",
   "metadata": {},
   "source": [
    "Consider two point masses $m$ that are connected by a string of constant tension $T$. Suppose we start with a configuration in which the two masses are at rest and separated by a distance $L$. When the system is allowed to evolve, the two masses will move towards one another. Assuming that the two masses collide and stick together to form a point mass at rest, calculate the mass $M$ of the resulting particle. \n",
    "\n",
    "<br><div style=\"text-align: center\"> \n",
    "<img src=\"resources/CollidingMasses.png\" width=\"40%\" /><br>\n",
    "Figure 3.  Initial and final configurations of the two colliding masses.\n",
    "</div>\n",
    "<br><div style=\"text-align: right\"> \n",
    "[5 marks]\n",
    "</div>"
   ]
  },
  {
   "attachments": {},
   "cell_type": "markdown",
   "metadata": {},
   "source": [
    "### Section B\n",
    "----"
   ]
  },
  {
   "attachments": {},
   "cell_type": "markdown",
   "metadata": {},
   "source": [
    "#### Problem B1 [Twin Paradox]"
   ]
  },
  {
   "attachments": {},
   "cell_type": "markdown",
   "metadata": {},
   "source": [
    "In this question we will consider a slightly modified version of the twin paradox. In this version we will have three clocks and we would like to show that the relation between the readings on various clocks is frame independent. The first clock, we will call $E$, is a clock that remains on Earth. The second clock, called $O$ is one that is on an outgoing journey towards a distant star. Finally, the last clock, called $I$, is on an incoming journey from the same star. For the incoming and outgoing journeys, clocks $O$ and $I$ travel at a relativistic velocity $v$.\n",
    "\n",
    "Consider the following thought experiment. Clock $O$ and $E$ are both set to zero right before $O$ leaves Earth towards the star. As soon as $O$ reaches the star, the reading is transferred to clock $I$ which then immediately leaves the star and heads back towards Earth. When clock $I$ reaches Earth, its reading is compared with $E$. Show that the readings satisfy $T_E = \\gamma T_I$ by working \n",
    "\n",
    "1. in the frame of the Earth $E$\n",
    "1. in the frame of the outgoing clock $I$. Do this by following these steps:\n",
    "    1. Draw a spacetime diagram from the perspective of $I$ and include the world lines of $E$ and $O$. Label the three important events (i.e. when $I$, $O$ and $E$ meet).\n",
    "    1. Find the velocities of $E$ and $O$ in the frame of $I$. Hint: use the relativistic velocity addition formula.\n",
    "    1. Find the time dilation factors of $E$ and $O$ in the frame of $I$. In particular show that the time dilation factor of $O$ in the frame of $I$ is: $\\gamma_O = \\frac{1+v^2}{1-v^2}$.\n",
    "    1. Call $t_O$ the time on $O$'s clock when $O$ meets $I$. Calculate $t_\\text{O meets I}$ which is the time taken for $O$ to reach $I$ in the frame of $I$. Hint: this is just a time dilation factor times $t_O$. \n",
    "    1. What is the distance that $O$ travels in time $t_\\text{O meets I}$? \n",
    "    1. Find $t_\\text{E meets I}$ by using $E$'s speed calculated in part (B) and the fact that $E$ must travel the same distance as the one calculated in part (E). \n",
    "    1. The quantity calculated in part (F) is a time interval in $I$'s frame. How much has $E$'s clock advanced in this time interval? Call this $T_E$. Hint: again this is just multiplying/dividing by a time dilation factor!\n",
    "    1. Explain why the quantity\n",
    "    \\begin{align}\n",
    "        T_I = t_O + t_\\text{E meets I} - t_\\text{O meets I}\n",
    "    \\end{align}\n",
    "    is important. In particular, discuss why this quantity satisfies $T_I = T_E/\\gamma$ where $T_E$ was calculated in part G. This should agree with the conclusion of part 1.\n",
    "\n",
    "NOTE: The time dilation factor is $\\gamma = 1/\\sqrt{1-v^2/c^2}$ where $v$ should be the relevant velocity between the two clocks being compared. \n",
    "\n",
    "\n",
    "<br><div style=\"text-align: right\"> \n",
    "[15 marks]\n",
    "</div>"
   ]
  },
  {
   "attachments": {},
   "cell_type": "markdown",
   "metadata": {},
   "source": [
    "#### Problem B2 [Equivalence Principle]"
   ]
  },
  {
   "attachments": {},
   "cell_type": "markdown",
   "metadata": {},
   "source": [
    "In this question we will explore various forms of the equivalence principle and then use one of them to investigate gravitational time dilation. This is the effect whereby a clock that is higher in a gravitational field (e.g. a tall tower) will run faster than one that is positioned lower in the field (e.g. on the surface of the Earth).\n",
    "\n",
    "1. To begin with, consider two versions of the equivalence principle:\n",
    "\n",
    "    __Statement 1__: Gravitational and inertial masses are equal. More precisely, the mass $m_i$ that enters Newton's second law $\\vec{F} = m_i \\vec{a}$ is the same as $m_g$ that enters in Newton's law of gravity $\\vec{F}_g = \\frac{G M m_g}{r^2} = m_g \\vec{g}$. \n",
    "\n",
    "    __Statement 2__: Using the dynamics of moving particles, it is impossible to carry out an experiment that would distinguish a uniform gravitational field from constant acceleration.\n",
    "\n",
    "    Argue that the two statements are the same (at least in the non-relativistic limit). \n",
    "    Hint: Use a change of coordinates to a non-inertial frame $\\vec{x}' = \\vec{x} - \\frac12 \\vec{g} t^2$ and $t' = t$ to eliminate the effects of gravity.\n",
    "\n",
    "1. By performing experiments with various materials we can find evidence for the WEP. Argue why this is also indirect evidence for the Einstein Equivalence Principle (EEP). In particular, consider the fact that different materials contain different ratios of protons, neutrons and electrons and their gravitating mass/energy receives contributions from various forces (e.g. electromagnetic and the strong force).\n",
    "\n",
    "1. Secondly, we want to derive the classical Doppler effect for a moving receiver. Do this by considering a stationary source (i.e. work in the frame of the source) that emits pulses which travel with velocity $c$ and have time separation between them $t_S$ as measured by the source. Find the time interval $t_R$ between pulses arriving at a receiver travelling with veolocity $v$ towards the source.\n",
    "\n",
    "<br><div style=\"text-align: center\"> \n",
    "<img src=\"resources/DopplerEffect.png\" width=\"80%\" /><br>\n",
    "Figure 1. Diagram showing a fixed source emitting pulses at $t_S$ intervals and moving receiver. To find $t_R$ how long does it take for the next pulse to reach the receiver if a pulse has just passed the receiver?\n",
    "</div>\n",
    "\n",
    "1. Finally, consider a rocket of height $h$ and acceleration $g$. \n",
    "    1. Imagine a source at the top of the rocket that emits quick flashes of light at intervals $t_S$ and calculate the intervals $t_R$ between received flashes of light at the bottom of the rocket. There are three things that could be important here: <br>\n",
    "    (i) the motion of the receiver;<br> \n",
    "    (ii) the motion of the source and; <br>\n",
    "    (iii) the displacement of the receiver by the time the pulses reach it. <br>\n",
    "    It is correct to ignore the (ii) and (iii) effect because they are higher order in an expansion in the time interval it takes for the light to reach the receiver. The first effect is the only important one. \n",
    "    1. Use __Statement 2__ above to deduce gravitational time dilation. \n",
    "\n",
    "<br><div style=\"text-align: right\"> \n",
    "[15 marks]\n",
    "</div>"
   ]
  },
  {
   "attachments": {},
   "cell_type": "markdown",
   "metadata": {},
   "source": [
    "#### Problem B3 [Bug-Rivet Paradox]"
   ]
  },
  {
   "attachments": {},
   "cell_type": "markdown",
   "metadata": {},
   "source": [
    "Consider a bug hiding at the bottom of a hole of depth $L$ (in its rest frame). A rivet, with proper shaft length $a<L$, is moving towards the hole with velocity $v$. Clearly, when the rivet is at rest (i.e. in the limit $v\\rightarrow 0$), the bug is safe at the bottom of the hole as the rivet's head prevents it from reaching the bottom of the hole. This conclusion, however, may not be correct when the rivet is traveling at a relativistic velocity and slams on the wall. For instance, if we view the problem in the frame of the rivet, the hole is contracted to length $L/\\gamma$ so that for $\\gamma \\gg 1$, we could have $L/\\gamma < a$ and the bug is squished at the bottom of the hole.\n",
    "\n",
    "<br><div style=\"text-align: center\"> \n",
    "<img src=\"resources/BugRivet.png\" width=\"60%\" /><br>\n",
    "Figure 1. Diagram illustrating the bug-rivet paradox.\n",
    "</div>\n",
    "\n",
    "We want to find the minimum velocity $v_*$ at which the bug is squished. Do this by following these steps:\n",
    "1. Assume that all signals travel at the speed of light. Suppose that the head of rivet is stopped at time $t=0$ then show that the tip will stop at time $t_1 = \\frac{a}{\\gamma (1-v)}$\n",
    "2. The bug will be squished if $v t_1 > L - \\frac{a}{\\gamma}$. Rearrange this to get an inequality for $v$ and deduce $v_*$. \n",
    "\n",
    "<br><div style=\"text-align: right\"> \n",
    "[15 marks]\n",
    "</div>"
   ]
  },
  {
   "cell_type": "markdown",
   "metadata": {},
   "source": []
  }
 ],
 "metadata": {
  "kernelspec": {
   "display_name": "Python 3",
   "language": "python",
   "name": "python3"
  },
  "language_info": {
   "name": "python"
  },
  "orig_nbformat": 4,
  "vscode": {
   "interpreter": {
    "hash": "31f2aee4e71d21fbe5cf8b01ff0e069b9275f58929596ceb00d14d90e3e16cd6"
   }
  }
 },
 "nbformat": 4,
 "nbformat_minor": 2
}
