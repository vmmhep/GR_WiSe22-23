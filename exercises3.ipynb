{
 "cells": [
  {
   "cell_type": "markdown",
   "metadata": {},
   "source": [
    "<div style=\"text-align: left\"> \n",
    "PHYS736 Introduction to General Relativity <br>\n",
    "Lecturers: Viraf M. Mehta and Georges Obied \n",
    "<div style=\"text-align: right\"> \n",
    "Birzeit University <br>\n",
    "Winter Term 2022\n",
    "</div></div>"
   ]
  },
  {
   "cell_type": "markdown",
   "metadata": {},
   "source": [
    "----"
   ]
  },
  {
   "attachments": {},
   "cell_type": "markdown",
   "metadata": {},
   "source": [
    "## Assignment 3"
   ]
  },
  {
   "cell_type": "markdown",
   "metadata": {},
   "source": [
    "----"
   ]
  },
  {
   "attachments": {},
   "cell_type": "markdown",
   "metadata": {},
   "source": [
    "## Curvature"
   ]
  },
  {
   "attachments": {},
   "cell_type": "markdown",
   "metadata": {},
   "source": [
    "### Problem 1 [The Metric Tensor]"
   ]
  },
  {
   "attachments": {},
   "cell_type": "markdown",
   "metadata": {},
   "source": [
    "Consider the line element:\n",
    "\\begin{align}\n",
    "d s^2=-d t^2+d x^2+(1+\\phi) d y^2+(1-\\phi) d z^2+2 \\psi d y d z\n",
    "\\end{align}\n",
    "with $\\phi=\\phi(t, x), \\psi=\\psi(t, x)$ and define the coordinate transformation as:\n",
    "\\begin{align}\n",
    "u=\\frac{t-x}{\\sqrt{2}}, \\quad v=\\frac{t+x}{\\sqrt{2}}, \\quad y^{\\prime}=y, \\quad z^{\\prime}=z .\n",
    "\\end{align}\n",
    "\n",
    "1. Conclude that:\n",
    " \\begin{align}\n",
    "    dt^2-d x^2=2 d u dv\n",
    "\\end{align}\n",
    "\n",
    "1. Show that in these new coordinates, we have:\n",
    " \\begin{align}\n",
    "    d s^2=-2 d u d v+\\left(1+\\phi^{\\prime}\\right) dy^{\\prime 2}+\\left(1-\\phi^{\\prime}\\right) d z^{\\prime 2}+2 \\psi^{\\prime}d y^{\\prime} d z^{\\prime}\n",
    "\\end{align}\n",
    "    where $\\phi^{\\prime}\\left(u,v\\right)=\\phi\\left(x\\left(u,v\\right), t\\left(u,v\\right)\\right)$ and $\\psi^{\\prime}\\left(u,v\\right)=\\psi\\left(x\\left(u,v\\right), t\\left(u,v\\right)\\right)$."
   ]
  },
  {
   "attachments": {},
   "cell_type": "markdown",
   "metadata": {},
   "source": [
    "_Provide your answer(s) here_"
   ]
  },
  {
   "attachments": {},
   "cell_type": "markdown",
   "metadata": {},
   "source": [
    "### Problem 2 [Christoffel Symbols and the Covariant Divergence]"
   ]
  },
  {
   "attachments": {},
   "cell_type": "markdown",
   "metadata": {},
   "source": [
    "We have previously proven the Jacobi formula (for symmetric metric):\n",
    "\\begin{align}\n",
    "\\partial_\\lambda g=g g^{\\mu \\nu} \\partial_\\lambda g_{\\mu \\nu},\n",
    "\\end{align}\n",
    "where $g$ is the determinant of the metric $g_{\\mu \\nu}$. The Christoffel symbols $\\Gamma_{\\mu \\nu}^\\sigma$ are defined by:\n",
    "\\begin{align}\n",
    "\\Gamma_{\\mu \\nu}^\\sigma=\\frac{1}{2} g^{\\rho \\sigma}\\left(\\partial_\\mu g_{\\rho \\nu}+\\partial_\\nu g_{\\mu \\rho}-\\partial_\\rho g_{\\mu \\nu}\\right)\n",
    "\\end{align}\n",
    "and the covariant derivative of a contravariant vector $U$ is defined as:\n",
    "\\begin{align}\n",
    "\\nabla_\\mu U^\\nu=\\partial_\\mu U^\\nu+\\Gamma_{\\mu \\rho}^\\nu U^\\rho .\n",
    "\\end{align}\n",
    "Using these two definitions and the first equation above, solve the following:\n",
    "\n",
    "1. Show that:\n",
    " \\begin{align}\n",
    " \\Gamma_{\\alpha \\lambda}^\\alpha=\\frac{1}{\\sqrt{|g|}} \\partial_\\lambda(\\sqrt{|g|})\n",
    " \\end{align}\n",
    " **Hint**: Matrix identity $\\log \\operatorname{det} M=\\operatorname{tr} \\log M$ as well as the relation between the index notation and the matrix notation $ M^{i k} \\partial_j M_{i k}= \\operatorname{tr}\\left(M^{-1} \\partial_j M\\right)$ can prove to be helpful. \n",
    "\n",
    "1. Also show that the (covariant) divergence of a vector $\\mathrm{U}$ is given by:\n",
    " \\begin{align}\n",
    " \\nabla_\\alpha U^\\alpha=\\frac{1}{\\sqrt{|g|}} \\partial_\\alpha\\left(\\sqrt{|g|} U^\\alpha\\right)\n",
    " \\end{align}\n",
    " **NOTE**: This problem plays an important role for use in the Stokes' theorem:\n",
    " \\begin{align}\n",
    " \\int_{\\Sigma} \\nabla_\\mu U^\\mu \\sqrt{|g|} d^n x=\\int_{\\partial \\Sigma} n_\\mu U^\\mu \\sqrt{|\\gamma|} d^{n-1} x\n",
    " \\end{align}"
   ]
  },
  {
   "attachments": {},
   "cell_type": "markdown",
   "metadata": {},
   "source": [
    "_Provide your answer(s) here_"
   ]
  },
  {
   "attachments": {},
   "cell_type": "markdown",
   "metadata": {},
   "source": [
    "### Problem 3 [Straight Line in 2D Euclidean Plane]"
   ]
  },
  {
   "attachments": {},
   "cell_type": "markdown",
   "metadata": {},
   "source": [
    "Consider the metric describing (in polar co-ordinates $(r, \\theta)$) an Euclidean space:\n",
    "\\begin{align}\n",
    "d s^2=d r^2+r^2 d\\theta^2 .\n",
    "\\end{align}\n",
    "\n",
    "1. Calculate the Christoffel symbols and geodesic curves associated with this space, which are given by the geodesic equation (a fancy term to denote an equation for a straight line in any curved manifold):\n",
    " \\begin{align}\n",
    " \\frac{d^2 x^\\mu}{d \\lambda^2}+\\Gamma_{\\alpha \\beta}^\\mu \\frac{d x^\\alpha}{d \\lambda} \\frac{d x^\\beta}{d\\lambda}=0 .\n",
    " \\end{align}\n",
    "\n",
    "1. Combine the two second-order differential equations describing the geodesic curves into a single first-order differential equation for $r=r(\\theta)$.\n",
    "\n",
    "1. What is the differential euqation for a straight line in this space?"
   ]
  },
  {
   "attachments": {},
   "cell_type": "markdown",
   "metadata": {},
   "source": [
    "_Provide your answer(s) here_"
   ]
  },
  {
   "attachments": {},
   "cell_type": "markdown",
   "metadata": {},
   "source": [
    "### Problem 4 [The Lie Derivative (I)]"
   ]
  },
  {
   "attachments": {},
   "cell_type": "markdown",
   "metadata": {},
   "source": [
    "We defined the Lie derivative as:\n",
    "\\begin{align}\n",
    "\\mathcal{L}_{\\vec{v}} T^{\\mu}{}_{\\nu}=v^{\\sigma} \\partial_{\\sigma} T^{\\mu}{}_{\\nu}-T^{\\sigma}{}_{\\nu} \\partial_{\\sigma} V^{\\mu} +T^{\\mu}{}_{\\sigma} \\partial_{\\nu} V^{\\sigma}\n",
    "\\end{align}\n",
    "\n",
    "Show that we could have equivalently used covariant derivatives in the first equation instead of partial derivatives and still got the same result for the Lie derivative of $T^{\\mu}{}_{\\nu}$ along the vector $\\vec{v}$.\n"
   ]
  },
  {
   "attachments": {},
   "cell_type": "markdown",
   "metadata": {},
   "source": [
    "_Provide your answer(s) here_"
   ]
  },
  {
   "attachments": {},
   "cell_type": "markdown",
   "metadata": {},
   "source": [
    "### Problem 5 [The Lie Derivative (II)]"
   ]
  },
  {
   "attachments": {},
   "cell_type": "markdown",
   "metadata": {},
   "source": [
    "Consider a manifold $M$ with coordinates $x^{\\mu} = \\left(t, r, \\theta, \\varphi\\right)^T$ and a contravariant vector $\\vec{u}$ with components:\n",
    "\\begin{align}\n",
    "u^\\alpha=f(r) \\delta_0^\\alpha\n",
    "\\end{align}\n",
    "defined via a differentiable function $f(r)$. Let $Y$ be a vector field on $M$ with components:\n",
    "\\begin{align}\n",
    "Y^\\alpha=a(r, \\theta, \\varphi) \\delta_0^\\alpha+b(r, \\theta, \\varphi) \\delta_2^\\alpha+c(r, \\theta, \\varphi) \\delta_3^\\alpha,\n",
    "\\end{align}\n",
    "where $a, b, c$ are differentiable functions in $r, \\theta, \\varphi$. Show that $\\mathcal{L}_{\\vec{u}} Y=0$."
   ]
  },
  {
   "attachments": {},
   "cell_type": "markdown",
   "metadata": {},
   "source": [
    "_Provide your answer(s) here_"
   ]
  },
  {
   "attachments": {},
   "cell_type": "markdown",
   "metadata": {},
   "source": [
    "### Problem 6 [Christoffel Symbols for Diagonal Metric]"
   ]
  },
  {
   "attachments": {},
   "cell_type": "markdown",
   "metadata": {},
   "source": [
    "Let $g_{\\mu \\nu}$ be a diagonal metric $\\left(g_{\\mu \\nu}=0\\right.$ for $\\left.\\mu \\neq \\nu\\right)$. Show that the Christoffel symbols for this metric are:\n",
    "\\begin{align}\n",
    "&\\Gamma_{\\mu \\nu}^\\lambda=0 \\\\\n",
    "&\\Gamma_{\\mu \\mu}^\\lambda=-\\frac{1}{2}\\left(|g_{\\lambda \\lambda}|\\right)^{-1} \\partial_\\lambda g_{\\mu \\mu} \\\\\n",
    "&\\Gamma_{\\mu \\lambda}^\\lambda=\\partial_\\mu\\left(\\ln \\sqrt{\\left|g_{\\lambda \\lambda}\\right|}\\right) \\\\\n",
    "&\\Gamma_{\\lambda \\lambda}^\\lambda=\\partial_\\lambda\\left(\\ln \\sqrt{\\left|g_{\\lambda \\lambda}\\right|}\\right) \\text {, } \\\\\n",
    "&\n",
    "\\end{align}\n",
    "where $\\mu \\neq \\nu \\neq \\lambda$ (particular values of $\\mu, \\nu, \\lambda$), $|g_{\\lambda \\lambda}| = \\text{value}(g_{\\lambda \\lambda})$ for a given $\\lambda$ and _repeated indices are not summed_. These results are useful because many important metrics are diagonal, or can be put into a diagonal form.\n"
   ]
  },
  {
   "attachments": {},
   "cell_type": "markdown",
   "metadata": {},
   "source": [
    "_Provide your answer(s) here_"
   ]
  },
  {
   "attachments": {},
   "cell_type": "markdown",
   "metadata": {},
   "source": [
    "### Problem 7 [Geodesics]"
   ]
  },
  {
   "attachments": {},
   "cell_type": "markdown",
   "metadata": {},
   "source": [
    "We defined a geodesic to be a curve $\\gamma$ whose tangent vector $T$ is proportional to itself when it undergoes parallel transport:\n",
    "\\begin{align}\n",
    "T^\\mu \\nabla_\\mu T^\\nu=\\alpha T^\\nu\n",
    "\\end{align}\t\n",
    "From this definition, and choosing the affine parameterisation $\\alpha=0$ such that:\n",
    "\\begin{align}\n",
    "T^\\mu \\nabla_\\mu T^\\nu=0,\n",
    "\\end{align}\n",
    "we derived the geodesic equation as follows:\n",
    "\\begin{align}\n",
    "\\frac{d T^\\nu}{d \\lambda}+\\Gamma_{\\mu \\rho}^\\nu T^\\rho T^\\mu=0\n",
    "\\end{align}\n",
    "The tangent vector $T$ is given by $ \\frac{d}{d \\lambda}$ for the affine parameter $\\alpha = 0$ where $\\lambda$ parametrized the curve $\\gamma$. \n",
    "\n",
    "1. The affine parameter is not unique. Show that any other reparametrization $t=a \\lambda+b$ with constant $a, b \\in \\mathbb{R}$ solves the second equation with $t$ instead of $\\lambda$.\n",
    "\n",
    "1. Show that any curve whose tangent satisfies the first constraint can be reparametrised so that its tangent satisfies the second equation."
   ]
  },
  {
   "attachments": {},
   "cell_type": "markdown",
   "metadata": {},
   "source": [
    "_Provide answer(s) here_"
   ]
  },
  {
   "attachments": {},
   "cell_type": "markdown",
   "metadata": {},
   "source": [
    "### Problem 8 [Riemann Tensor \\& Ricci Identity]"
   ]
  },
  {
   "attachments": {},
   "cell_type": "markdown",
   "metadata": {},
   "source": [
    "One of the axioms of GR is that the universe can be described in a torsion-free framework:\n",
    "\\begin{align}\n",
    "T_{\\mu \\nu}^\\lambda=\\Gamma_{\\mu \\nu}^\\lambda-\\Gamma_{\\nu \\mu}^\\lambda=2 \\Gamma_{[\\mu \\nu]}^\\lambda \\equiv 0 .\n",
    "\\end{align}\n",
    "\n",
    "Considering an arbitrary vector field $V^\\rho$, prove the Ricci identity:\n",
    "\\begin{align}\n",
    "\\left[\\nabla_\\mu, \\nabla_\\nu\\right] V^\\rho=R_{\\sigma \\mu \\nu}^\\rho V^\\sigma\n",
    "\\end{align}\n",
    "\n",
    "**NOTE**: Generalization of this formula for arbitrary ranked tensors in a torsion-free manifold is given by:\n",
    "\n",
    "\\begin{align}\n",
    "\\left[\\nabla_\\rho, \\nabla_\\sigma\\right] X^{\\mu_1 \\cdots \\mu_k}{}_{\\nu_1 \\cdots \\nu_l} = & +R^{\\mu_1}{}_{\\lambda \\rho \\sigma} X^{\\lambda \\mu_2 \\cdots \\mu_k}{ }_{\\nu_1 \\cdots \\nu_l}+R^{\\mu_2}{}_{\\lambda \\rho \\sigma} X^{\\mu_1 \\lambda \\cdots \\mu_k}{ }_{\\nu_1 \\cdots \\nu_l}+\\cdots \\\\\n",
    "& -R^\\lambda{}_{\\nu_1 \\rho \\sigma} X^{\\mu_1 \\cdots \\mu_k}{ }_{\\lambda \\nu_2 \\cdots \\nu_l}-R^\\lambda{}_{\\nu_2 \\rho \\sigma} X^{\\mu_1 \\cdots \\mu_k}{ }_{\\nu_1 \\lambda \\cdots \\nu_l}-\\cdots .\n",
    "\\end{align}\n",
    "\n",
    "In particular, for a $(2,0)$ tensor, we have:\n",
    "\\begin{align}\n",
    "\\left[\\nabla_\\mu, \\nabla_\\nu \\right] X^{\\alpha \\beta} =-R^\\alpha{}_{\\gamma \\mu \\nu} X^{\\gamma \\beta}-R^\\beta{}_{\\gamma \\mu \\nu} X^{\\alpha \\gamma} .\n",
    "\\end{align}\n"
   ]
  },
  {
   "attachments": {},
   "cell_type": "markdown",
   "metadata": {},
   "source": [
    "_Provide answer(s) here_"
   ]
  },
  {
   "attachments": {},
   "cell_type": "markdown",
   "metadata": {},
   "source": [
    "### Problem 9 [Killing Vectors]} "
   ]
  },
  {
   "attachments": {},
   "cell_type": "markdown",
   "metadata": {},
   "source": [
    "1. Prove the following identities for a Killing vector $K$: <br>\n",
    " a. $\\nabla_\\mu \\nabla_\\sigma K^\\rho=  R_{\\sigma \\mu \\nu}^\\rho K^\\nu$ <br>\n",
    " b. $K^\\lambda \\nabla_\\lambda R=  0$ <br>\n",
    " c. $\\nabla_\\mu \\nabla^\\mu K_\\nu=  -R_{\\nu \\rho} K^\\rho$ <br>\n",
    "\n",
    "\n",
    "1.  Show that a linear combination of two Killing vectors with constant coefficients is again a Killing vector.\n",
    "\n",
    "1.  Suppose $J^\\mu$ and $K^\\mu$ are two Killing vectors. Commutator of two Killing vectors is defined as:\n",
    " \\begin{align}\n",
    " Z^\\mu = K^\\nu \\nabla_\\nu J^\\mu - J^\\nu \\nabla_\\nu K^\\mu.\n",
    " \\end{align}\n",
    " Show that the commutator of two Killing vectors is also a Killing vector.\n",
    "\n",
    "\n",
    "**Hint**: Bianchi identities can be useful:\n",
    "1.  The first identity:\n",
    " \\begin{align}\n",
    " R_{\\alpha \\beta \\mu \\nu}+R_{\\alpha \\nu \\beta \\mu}+R_{\\alpha \\mu \\nu \\beta}=0 .\n",
    " \\end{align}\n",
    "\n",
    "1.  The second identity:\n",
    " \\begin{align}\n",
    " \\nabla_{\\eta}R_{\\lambda \\mu \\nu \\kappa}+\\nabla_{\\kappa} R_{\\lambda \\mu \\eta \\nu}+\\nabla_{\\nu} R_{\\lambda \\mu \\kappa \\eta}=0,\n",
    " \\end{align}"
   ]
  },
  {
   "attachments": {},
   "cell_type": "markdown",
   "metadata": {},
   "source": [
    "_Provide answer(s) here_"
   ]
  },
  {
   "attachments": {},
   "cell_type": "markdown",
   "metadata": {},
   "source": [
    "## Bonus Problems"
   ]
  },
  {
   "attachments": {},
   "cell_type": "markdown",
   "metadata": {},
   "source": [
    "### Bonus Problem 1 [Geodesics \\& Parallel Transport]"
   ]
  },
  {
   "attachments": {},
   "cell_type": "markdown",
   "metadata": {},
   "source": [
    "Consider the spherical surface $S^2$ with coordinates $x^{\\mu} = (\\theta, \\phi)^T$ and the corresponding metric:\n",
    "\\begin{align}\n",
    "d s^2=\\mathrm{d} \\theta^2+\\sin ^2 \\theta \\mathrm{d} \\phi^2 .\n",
    "\\end{align}\n",
    "\n",
    "1. Find the geodesic equations for this manifold.\n",
    "\n",
    "1. Show that all geodesics are great circles (circles with maximum circumference) of $S^2$.<br>\n",
    " **Hint**: Use the symmetry of the sphere and show for one such initial condition without loss of generality, namely the initial position to be $(\\theta, \\phi) = (\\pi/2, 0)$ and the initial direction to be the tangent vector $T^{\\mu}_0 = \\left(\\frac{d \\theta}{d \\lambda}, \\frac{d \\phi}{d \\lambda} \\right) \\hspace{-1mm}\\left. \\right|_{\\lambda_0} = (0,1)$ where $\\lambda$ is any affine parameter.\n",
    "\n",
    "1. Parallel transport the vector $V^\\mu=(1,0)^T$ once by a latitude $\\left(\\theta=\\theta_0\\right)$ along any curve with constant $\\phi$. What are its components $V^\\mu\\left(\\theta_0, \\phi\\right)$?<br>\n",
    " **Hint**: Parallel transport of vector $V^{\\mu}$ along the direction $T^{\\mu}$ satisfies $T^{\\mu} \\nabla_{\\mu} V^{\\nu} = 0$ where the initial vector $V^{\\mu}_0 = (1,0)^T$ is provided. Parallel transport along constant-$\\phi$ curves means choosing, say, $T^{\\mu} = (1,0)^T$ so that the affine parameter $\\lambda$ can be taken to be $\\theta$ and $V^{\\phi}$ component does not change during parallel transport as $\\theta$ varies. "
   ]
  },
  {
   "attachments": {},
   "cell_type": "markdown",
   "metadata": {},
   "source": [
    "_Provide answer(s) here_"
   ]
  },
  {
   "attachments": {},
   "cell_type": "markdown",
   "metadata": {},
   "source": [
    "### Bonus Problem 2 [Tensor Densities]"
   ]
  },
  {
   "attachments": {},
   "cell_type": "markdown",
   "metadata": {},
   "source": [
    "Consider a coordinate change:\n",
    "\\begin{align}\n",
    "x^\\mu \\rightarrow x^{\\mu^{\\prime }} \\text {. }\n",
    "\\end{align}\n",
    "\n",
    "Recall that tensors can be defined via their transformation properties under this coordinate change. More concretely, the components of say a $(1,1)$ tensor $T_\\nu^\\mu$ transform under the coordinate change according to:\n",
    "\\begin{align}\n",
    "T^\\mu{}_\\nu \\rightarrow T^{ \\mu^{\\prime }}{}_{\\nu^{\\prime }}=\\frac{\\partial x^{ \\mu^{\\prime }}}{\\partial x^\\rho} \\frac{\\partial x^\\sigma}{\\partial x^{ \\nu^{\\prime }}} T^\\rho{}_\\sigma .\n",
    "\\end{align}\n",
    "\n",
    "A (1, 1) tensor density $\\mathcal{T}_\\nu^\\mu$ of weight $w$ is defined by the transformation property\n",
    "\\begin{align}\n",
    "\\mathcal{T}^\\mu{}_\\nu \\rightarrow \\mathcal{T}^{ \\mu^{\\prime }}{}_{\\nu^{\\prime }}=|J|^W \\frac{\\partial x^{ \\mu^{\\prime }}}{\\partial x^\\rho} \\frac{\\partial x^\\sigma}{\\partial x^{ \\nu^{\\prime }}} \\mathcal{T}^\\rho{}_\\sigma\n",
    "\\end{align}\n",
    "with $J=\\operatorname{det}\\left(\\frac{\\partial x^\\mu}{\\partial x^{ \\nu^{\\prime }}}\\right)$ (and analogous definitions for tensor densities of different rank).\n",
    "\n",
    "Here $W$ is called the weight of the tensor density $\\mathcal{T}^{\\mu}{ }_{\\nu}$ (this depends on the convention too, some authors take $-W$ in the definition above instead of $+W$ for the tensor weight). Thus, unlike tensors, tensor density are coordinate dependent objects.\n",
    "\n",
    "1. Prove that the metric determinant $g = \\det\\left[g_{\\mu \\nu} \\right]$ is a tensor density (in particular, a scalar density) with weight $W=+2$ as per our convention.\n",
    "\n",
    "1.  Given any tensor $T^{\\mu \\nu}$, show that $\\left(\\operatorname{det} T^{\\mu \\nu}\\right)^{1 / 2}$ is a scalar density of weight $-1$.\n",
    "\n",
    "**NOTE**: For general reference, covariant derivatives have the following form for a $(1,0)$, $(0,1)$ and $(1,1)$ tensors respectively:\n",
    "\n",
    "1. $\\nabla_\\gamma A^\\alpha=\\frac{\\partial A^\\alpha}{\\partial x^\\gamma}+\\Gamma_{\\gamma \\delta}^\\alpha A^\\delta$\n",
    "\n",
    "1. $\\nabla_\\gamma A_\\alpha=\\frac{\\partial A^\\alpha}{\\partial x^\\gamma}-\\Gamma_{\\gamma \\alpha}^\\delta A_\\delta$\n",
    "\n",
    "1. $\\nabla_\\gamma T^\\alpha{}_\\beta=\\frac{\\partial T^\\alpha{}_\\beta}{\\partial x^\\gamma}+\\Gamma_{\\gamma \\delta}^\\alpha T^\\delta{}_\\beta-\\Gamma_{\\gamma \\beta}^\\delta T^\\alpha{}_\\delta $\n",
    "\n",
    "Recall that $\\Gamma_{\\gamma \\delta}^\\alpha = \\Gamma_{ \\delta \\gamma}^\\alpha$. Generalization to higher order tensors can be deduced from above. The full expression for a general $(r,s)$ tensor is:\n",
    "\n",
    "\\begin{align}\n",
    "\\left(\\nabla_{\\alpha} T\\right)^{\\mu_1 \\ldots \\mu_r}{ }_{\\nu_1 \\ldots \\nu_s}= & \\frac{\\partial}{\\partial x^\\alpha} T^{\\mu_1 \\ldots \\mu_r}{}_{\\nu_1 \\ldots \\nu_s} \\\\\n",
    "& +\\Gamma^{\\mu_1}_{\\delta \\alpha} T^{\\delta \\mu_2 \\ldots \\mu_r} {}_{\\nu_1 \\ldots \\nu_s}+\\cdots+\\Gamma^{\\mu_r}_{\\delta \\alpha} T^{\\mu_1 \\ldots \\mu_{r-1} \\delta}{ }_{\\nu_1 \\ldots \\nu_s} \\\\\n",
    "& -\\Gamma^\\delta_{\\nu_1 \\alpha} T^{\\mu_1 \\ldots \\mu_r}{ }_{\\delta \\nu_2 \\ldots \\nu_s}-\\cdots-\\Gamma^\\delta_{\\nu_s \\alpha} T^{\\mu_1 \\ldots \\mu_r}{}_{\\nu_1 \\ldots \\nu_{s-1} \\delta}\n",
    "\\end{align}"
   ]
  },
  {
   "attachments": {},
   "cell_type": "markdown",
   "metadata": {},
   "source": [
    "_Provide answer(s) here_"
   ]
  }
 ],
 "metadata": {
  "kernelspec": {
   "display_name": "Python 3.6.10 ('base')",
   "language": "python",
   "name": "python3"
  },
  "language_info": {
   "codemirror_mode": {
    "name": "ipython",
    "version": 3
   },
   "file_extension": ".py",
   "mimetype": "text/x-python",
   "name": "python",
   "nbconvert_exporter": "python",
   "pygments_lexer": "ipython3",
   "version": "3.6.10"
  },
  "orig_nbformat": 4,
  "vscode": {
   "interpreter": {
    "hash": "534d17f14ca2b0ab74a378f888bb866ace3913b5090da2a8c2a1bf882602386f"
   }
  }
 },
 "nbformat": 4,
 "nbformat_minor": 2
}
